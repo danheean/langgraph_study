{
 "cells": [
  {
   "cell_type": "code",
   "execution_count": 1,
   "metadata": {},
   "outputs": [],
   "source": [
    "%%capture --no-stderr\n",
    "#%pip install --quiet -U langgraph langchain_anthropic"
   ]
  },
  {
   "cell_type": "code",
   "execution_count": 2,
   "metadata": {},
   "outputs": [],
   "source": [
    "from dotenv import load_dotenv\n",
    "load_dotenv('../envls')\n",
    "\n",
    "import getpass\n",
    "import os\n",
    "\n",
    "def _set_env(var: str):\n",
    "    if not os.environ.get(var):\n",
    "        on.environ[var] = getpass.getpass(f\"{var}:\")\n",
    "\n",
    "_set_env(\"ANTHROPIC_API_KEY\")\n",
    "\n",
    "os.environ[\"LANGCHAIN_TRACING_V2\"] = \"true\"\n",
    "_set_env(\"LANGCHAIN_API_KEY\")\n",
    "\n",
    "os.environ[\"LANGCHAIN_PROJECT\"] = \"LangGraph Tutorial\""
   ]
  },
  {
   "cell_type": "code",
   "execution_count": 3,
   "metadata": {},
   "outputs": [],
   "source": [
    "from typing import Annotated\n",
    "from typing_extensions import TypedDict\n",
    "\n",
    "from langgraph.graph.message import add_messages\n",
    "\n",
    "# Add messages essentially does this with more\n",
    "# robust handling\n",
    "# def add_messages(left: list, right: list):\n",
    "#     return left + right\n",
    "\n",
    "\n",
    "class State(TypedDict):\n",
    "    messages: Annotated[list, add_messages]"
   ]
  },
  {
   "cell_type": "markdown",
   "metadata": {},
   "source": [
    "### 툴 사용방법 \n",
    "\n",
    "https://python.langchain.com/v0.2/docs/how_to/custom_tools/"
   ]
  },
  {
   "cell_type": "code",
   "execution_count": 4,
   "metadata": {},
   "outputs": [],
   "source": [
    "# tool setup\n",
    "# 툴 생성\n",
    "from langchain_core.tools import tool\n",
    "\n",
    "@tool\n",
    "def search(query: str):\n",
    "    \"\"\" Call to surf the web. \"\"\"\n",
    "    return [\"The answer to your question lies within.\"]\n",
    "\n",
    "tools = [search]\n"
   ]
  },
  {
   "cell_type": "code",
   "execution_count": 5,
   "metadata": {},
   "outputs": [],
   "source": [
    "from langgraph.prebuilt import ToolNode\n",
    "\n",
    "# 툴 노드 생성\n",
    "tool_node = ToolNode(tools)"
   ]
  },
  {
   "cell_type": "code",
   "execution_count": 6,
   "metadata": {},
   "outputs": [],
   "source": [
    "from langchain_openai import ChatOpenAI\n",
    "\n",
    "# We will set streaming=True so that we can stream tokens\n",
    "# See the streaming section for more information on this.\n",
    "model = ChatOpenAI(temperature=0, streaming=True)"
   ]
  },
  {
   "cell_type": "code",
   "execution_count": 7,
   "metadata": {},
   "outputs": [],
   "source": [
    "# 모델과 도구 바인딩\n",
    "bound_model = model.bind_tools(tools)\n"
   ]
  },
  {
   "cell_type": "code",
   "execution_count": 8,
   "metadata": {},
   "outputs": [
    {
     "data": {
      "text/plain": [
       "'\\n    노드는 함수나 runnable 클래스가 될 수 있다.\\n    1. Agent: 무엇을 실행할지 결정해야 한다.\\n    2. 툴을 실행하는 함수: 실제로 동작해서 주어진 것을 실행한다.\\n\\n    엣지 정의\\n    단순한 연결일 수도 있고, 조건부 연결이 될 수 있다.\\n    노드의 결과에 따라 이후 연결할 노드가 결정될 수 있다. 툴과 바인딩된 LLM에 따라 툴이 결정되기 전까지 아무도 모른다)\\n\\n    1. 조건부 엣지: Agent가 툴을 호출하여 실행할 수도 있고, 종료할 수도 있다.\\n    2. 일반 엣지: 툴이 실행된 이후 Agent에게 다시 돌아갑니다.\\n'"
      ]
     },
     "execution_count": 8,
     "metadata": {},
     "output_type": "execute_result"
    }
   ],
   "source": [
    "# 그래프 정의\n",
    "\"\"\"\n",
    "    노드는 함수나 runnable 클래스가 될 수 있다.\n",
    "    1. Agent: 무엇을 실행할지 결정해야 한다.\n",
    "    2. 툴을 실행하는 함수: 실제로 동작해서 주어진 것을 실행한다.\n",
    "\n",
    "    엣지 정의\n",
    "    단순한 연결일 수도 있고, 조건부 연결이 될 수 있다.\n",
    "    노드의 결과에 따라 이후 연결할 노드가 결정될 수 있다. 툴과 바인딩된 LLM에 따라 툴이 결정되기 전까지 아무도 모른다)\n",
    "\n",
    "    1. 조건부 엣지: Agent가 툴을 호출하여 실행할 수도 있고, 종료할 수도 있다.\n",
    "    2. 일반 엣지: 툴이 실행된 이후 Agent에게 다시 돌아갑니다.\n",
    "\"\"\""
   ]
  },
  {
   "cell_type": "code",
   "execution_count": 9,
   "metadata": {},
   "outputs": [],
   "source": [
    "from typing import Literal\n",
    "\n",
    "def should_continue(state: State) -> Literal[\"action\", \"__end__\"]:\n",
    "    \"\"\"Return the next node to execute.\"\"\"\n",
    "    last_message = state[\"messages\"][-1]\n",
    "    # If there is no function call, then we finish\n",
    "    # Agent가 툴을 호출하면 tool_calls가 존재한다.\n",
    "    if not last_message.tool_calls:\n",
    "        return \"__end__\"\n",
    "    return \"action\"\n",
    "\n",
    "def call_model(state: State):\n",
    "    response = model.invoke(state[\"messages\"])\n",
    "    return {\"messages\": response}"
   ]
  },
  {
   "cell_type": "code",
   "execution_count": 10,
   "metadata": {},
   "outputs": [],
   "source": [
    "# 그래프 생성\n",
    "from langgraph.graph import StateGraph, START\n",
    "\n",
    "# 그래프 빌더 생성\n",
    "workflow = StateGraph(State)\n",
    "\n",
    "# 노드 생성\n",
    "workflow.add_node(\"agent\", call_model)\n",
    "workflow.add_node(\"action\", tool_node)\n",
    "\n",
    "# 그래프 시작 지점 정의\n",
    "workflow.add_edge(START, \"agent\")\n",
    "\n",
    "workflow.add_conditional_edges(\n",
    "    # 시작 노드 설정\n",
    "    \"agent\",\n",
    "    # 어떤 노드를 선택할 것인지 결정\n",
    "    should_continue\n",
    ")\n",
    "\n",
    "# 툴에서 agent로 연결\n",
    "workflow.add_edge(\"action\", \"agent\")"
   ]
  },
  {
   "cell_type": "code",
   "execution_count": 11,
   "metadata": {},
   "outputs": [],
   "source": [
    "# 지속성을 추가하기 위해 그래프를 컴파일할 때 checkpoint를 추가\n",
    "# postgresql을 사용할 수 있음\n",
    "from langgraph.checkpoint.sqlite import SqliteSaver\n",
    "\n",
    "memory = SqliteSaver.from_conn_string(\":memory:\")"
   ]
  },
  {
   "cell_type": "code",
   "execution_count": 12,
   "metadata": {},
   "outputs": [],
   "source": [
    "# 컴파일된 결과는 Runnable 클래스와 함께 사용할 수 있다.\n",
    "app = workflow.compile(checkpointer=memory)"
   ]
  },
  {
   "cell_type": "code",
   "execution_count": 13,
   "metadata": {},
   "outputs": [
    {
     "data": {
      "image/jpeg": "[encoded data removed]",
      "text/plain": [
       "<IPython.core.display.Image object>"
      ]
     },
     "metadata": {},
     "output_type": "display_data"
    }
   ],
   "source": [
    "# 랭그래프 클라우드를 사용하면 자동으로 checkpointer가 적용됨\n",
    "from IPython.display import Image, display\n",
    "\n",
    "try:\n",
    "    display(Image(app.get_graph().draw_mermaid_png()))\n",
    "except Exception:\n",
    "    pass"
   ]
  },
  {
   "cell_type": "code",
   "execution_count": 15,
   "metadata": {},
   "outputs": [
    {
     "name": "stdout",
     "output_type": "stream",
     "text": [
      "\u001b[36;1m\u001b[1;3m[2:checkpoint]\u001b[0m \u001b[1mState at the end of step 2:\n",
      "\u001b[0m{'messages': [HumanMessage(content=\"hi! I'm bob\", id='7d3fa6bd-e1bf-4720-a044-93710a777dc2'),\n",
      "              AIMessage(content='Hello Bob! How can I assist you today?', response_metadata={'finish_reason': 'stop', 'model_name': 'gpt-3.5-turbo-0125'}, id='run-eadda51d-6226-4763-a267-2f242e32312e-0')]}\n",
      "\u001b[36;1m\u001b[1;3m[3:tasks]\u001b[0m \u001b[1mStarting step 3 with 1 task:\n",
      "\u001b[0m- \u001b[32;1m\u001b[1;3m__start__\u001b[0m -> {'messages': [HumanMessage(content=\"hi! I'm bob\")]}\n",
      "\u001b[36;1m\u001b[1;3m[3:writes]\u001b[0m \u001b[1mFinished step 3 with writes to 1 channel:\n",
      "\u001b[0m- \u001b[33;1m\u001b[1;3mmessages\u001b[0m -> [HumanMessage(content=\"hi! I'm bob\")]\n",
      "================================\u001b[1m Human Message \u001b[0m=================================\n",
      "\n",
      "hi! I'm bob\n",
      "\u001b[36;1m\u001b[1;3m[3:checkpoint]\u001b[0m \u001b[1mState at the end of step 3:\n",
      "\u001b[0m{'messages': [HumanMessage(content=\"hi! I'm bob\", id='7d3fa6bd-e1bf-4720-a044-93710a777dc2'),\n",
      "              AIMessage(content='Hello Bob! How can I assist you today?', response_metadata={'finish_reason': 'stop', 'model_name': 'gpt-3.5-turbo-0125'}, id='run-eadda51d-6226-4763-a267-2f242e32312e-0'),\n",
      "              HumanMessage(content=\"hi! I'm bob\", id='9fd1bb45-41e9-4f3e-a8c8-1a2b627fbf81')]}\n",
      "\u001b[36;1m\u001b[1;3m[4:tasks]\u001b[0m \u001b[1mStarting step 4 with 1 task:\n",
      "\u001b[0m- \u001b[32;1m\u001b[1;3magent\u001b[0m -> {'messages': [HumanMessage(content=\"hi! I'm bob\", id='7d3fa6bd-e1bf-4720-a044-93710a777dc2'),\n",
      "              AIMessage(content='Hello Bob! How can I assist you today?', response_metadata={'finish_reason': 'stop', 'model_name': 'gpt-3.5-turbo-0125'}, id='run-eadda51d-6226-4763-a267-2f242e32312e-0'),\n",
      "              HumanMessage(content=\"hi! I'm bob\", id='9fd1bb45-41e9-4f3e-a8c8-1a2b627fbf81')]}\n",
      "\u001b[36;1m\u001b[1;3m[4:writes]\u001b[0m \u001b[1mFinished step 4 with writes to 1 channel:\n",
      "\u001b[0m- \u001b[33;1m\u001b[1;3mmessages\u001b[0m -> AIMessage(content=\"Hello Bob! It seems like you've introduced yourself twice. How can I assist you today?\", response_metadata={'finish_reason': 'stop', 'model_name': 'gpt-3.5-turbo-0125'}, id='run-ac67ddcd-f4ef-4295-99b1-f37058ce436c-0')\n",
      "==================================\u001b[1m Ai Message \u001b[0m==================================\n",
      "\n",
      "Hello Bob! It seems like you've introduced yourself twice. How can I assist you today?\n",
      "\u001b[36;1m\u001b[1;3m[4:checkpoint]\u001b[0m \u001b[1mState at the end of step 4:\n",
      "\u001b[0m{'messages': [HumanMessage(content=\"hi! I'm bob\", id='7d3fa6bd-e1bf-4720-a044-93710a777dc2'),\n",
      "              AIMessage(content='Hello Bob! How can I assist you today?', response_metadata={'finish_reason': 'stop', 'model_name': 'gpt-3.5-turbo-0125'}, id='run-eadda51d-6226-4763-a267-2f242e32312e-0'),\n",
      "              HumanMessage(content=\"hi! I'm bob\", id='9fd1bb45-41e9-4f3e-a8c8-1a2b627fbf81'),\n",
      "              AIMessage(content=\"Hello Bob! It seems like you've introduced yourself twice. How can I assist you today?\", response_metadata={'finish_reason': 'stop', 'model_name': 'gpt-3.5-turbo-0125'}, id='run-ac67ddcd-f4ef-4295-99b1-f37058ce436c-0')]}\n"
     ]
    }
   ],
   "source": [
    "from langchain_core.messages import HumanMessage\n",
    "\n",
    "config = {\"configurable\": {\"thread_id\": \"2\"}}\n",
    "input_message = HumanMessage(content=\"hi! I'm bob\")\n",
    "\n",
    "\n",
    "for event in app.stream({\"messages\": [input_message]}, config, stream_mode=\"values\", debug=True):\n",
    "    event[\"messages\"][-1].pretty_print()"
   ]
  },
  {
   "cell_type": "code",
   "execution_count": 17,
   "metadata": {},
   "outputs": [
    {
     "name": "stdout",
     "output_type": "stream",
     "text": [
      "\u001b[36;1m\u001b[1;3m[5:checkpoint]\u001b[0m \u001b[1mState at the end of step 5:\n",
      "\u001b[0m{'messages': [HumanMessage(content=\"hi! I'm bob\", id='7d3fa6bd-e1bf-4720-a044-93710a777dc2'),\n",
      "              AIMessage(content='Hello Bob! How can I assist you today?', response_metadata={'finish_reason': 'stop', 'model_name': 'gpt-3.5-turbo-0125'}, id='run-eadda51d-6226-4763-a267-2f242e32312e-0'),\n",
      "              HumanMessage(content=\"hi! I'm bob\", id='9fd1bb45-41e9-4f3e-a8c8-1a2b627fbf81'),\n",
      "              AIMessage(content=\"Hello Bob! It seems like you've introduced yourself twice. How can I assist you today?\", response_metadata={'finish_reason': 'stop', 'model_name': 'gpt-3.5-turbo-0125'}, id='run-ac67ddcd-f4ef-4295-99b1-f37058ce436c-0')]}\n",
      "\u001b[36;1m\u001b[1;3m[6:tasks]\u001b[0m \u001b[1mStarting step 6 with 1 task:\n",
      "\u001b[0m- \u001b[32;1m\u001b[1;3m__start__\u001b[0m -> {'messages': [HumanMessage(content='what is my name?')]}\n",
      "\u001b[36;1m\u001b[1;3m[6:writes]\u001b[0m \u001b[1mFinished step 6 with writes to 1 channel:\n",
      "\u001b[0m- \u001b[33;1m\u001b[1;3mmessages\u001b[0m -> [HumanMessage(content='what is my name?')]\n",
      "================================\u001b[1m Human Message \u001b[0m=================================\n",
      "\n",
      "what is my name?\n",
      "\u001b[36;1m\u001b[1;3m[6:checkpoint]\u001b[0m \u001b[1mState at the end of step 6:\n",
      "\u001b[0m{'messages': [HumanMessage(content=\"hi! I'm bob\", id='7d3fa6bd-e1bf-4720-a044-93710a777dc2'),\n",
      "              AIMessage(content='Hello Bob! How can I assist you today?', response_metadata={'finish_reason': 'stop', 'model_name': 'gpt-3.5-turbo-0125'}, id='run-eadda51d-6226-4763-a267-2f242e32312e-0'),\n",
      "              HumanMessage(content=\"hi! I'm bob\", id='9fd1bb45-41e9-4f3e-a8c8-1a2b627fbf81'),\n",
      "              AIMessage(content=\"Hello Bob! It seems like you've introduced yourself twice. How can I assist you today?\", response_metadata={'finish_reason': 'stop', 'model_name': 'gpt-3.5-turbo-0125'}, id='run-ac67ddcd-f4ef-4295-99b1-f37058ce436c-0'),\n",
      "              HumanMessage(content='what is my name?', id='29ca5319-13f2-46f5-9e8b-242f03e76737')]}\n",
      "\u001b[36;1m\u001b[1;3m[7:tasks]\u001b[0m \u001b[1mStarting step 7 with 1 task:\n",
      "\u001b[0m- \u001b[32;1m\u001b[1;3magent\u001b[0m -> {'messages': [HumanMessage(content=\"hi! I'm bob\", id='7d3fa6bd-e1bf-4720-a044-93710a777dc2'),\n",
      "              AIMessage(content='Hello Bob! How can I assist you today?', response_metadata={'finish_reason': 'stop', 'model_name': 'gpt-3.5-turbo-0125'}, id='run-eadda51d-6226-4763-a267-2f242e32312e-0'),\n",
      "              HumanMessage(content=\"hi! I'm bob\", id='9fd1bb45-41e9-4f3e-a8c8-1a2b627fbf81'),\n",
      "              AIMessage(content=\"Hello Bob! It seems like you've introduced yourself twice. How can I assist you today?\", response_metadata={'finish_reason': 'stop', 'model_name': 'gpt-3.5-turbo-0125'}, id='run-ac67ddcd-f4ef-4295-99b1-f37058ce436c-0'),\n",
      "              HumanMessage(content='what is my name?', id='29ca5319-13f2-46f5-9e8b-242f03e76737')]}\n",
      "\u001b[36;1m\u001b[1;3m[7:writes]\u001b[0m \u001b[1mFinished step 7 with writes to 1 channel:\n",
      "\u001b[0m- \u001b[33;1m\u001b[1;3mmessages\u001b[0m -> AIMessage(content='Your name is Bob.', response_metadata={'finish_reason': 'stop', 'model_name': 'gpt-3.5-turbo-0125'}, id='run-fbbcac57-cb3b-4219-9ede-9afa6ff469d8-0')\n",
      "==================================\u001b[1m Ai Message \u001b[0m==================================\n",
      "\n",
      "Your name is Bob.\n",
      "\u001b[36;1m\u001b[1;3m[7:checkpoint]\u001b[0m \u001b[1mState at the end of step 7:\n",
      "\u001b[0m{'messages': [HumanMessage(content=\"hi! I'm bob\", id='7d3fa6bd-e1bf-4720-a044-93710a777dc2'),\n",
      "              AIMessage(content='Hello Bob! How can I assist you today?', response_metadata={'finish_reason': 'stop', 'model_name': 'gpt-3.5-turbo-0125'}, id='run-eadda51d-6226-4763-a267-2f242e32312e-0'),\n",
      "              HumanMessage(content=\"hi! I'm bob\", id='9fd1bb45-41e9-4f3e-a8c8-1a2b627fbf81'),\n",
      "              AIMessage(content=\"Hello Bob! It seems like you've introduced yourself twice. How can I assist you today?\", response_metadata={'finish_reason': 'stop', 'model_name': 'gpt-3.5-turbo-0125'}, id='run-ac67ddcd-f4ef-4295-99b1-f37058ce436c-0'),\n",
      "              HumanMessage(content='what is my name?', id='29ca5319-13f2-46f5-9e8b-242f03e76737'),\n",
      "              AIMessage(content='Your name is Bob.', response_metadata={'finish_reason': 'stop', 'model_name': 'gpt-3.5-turbo-0125'}, id='run-fbbcac57-cb3b-4219-9ede-9afa6ff469d8-0')]}\n"
     ]
    }
   ],
   "source": [
    "input_message = HumanMessage(content=\"what is my name?\")\n",
    "for event in app.stream({\"messages\": [input_message]}, config, stream_mode=\"values\", debug=True):\n",
    "    event[\"messages\"][-1].pretty_print()"
   ]
  },
  {
   "cell_type": "code",
   "execution_count": 18,
   "metadata": {},
   "outputs": [
    {
     "name": "stdout",
     "output_type": "stream",
     "text": [
      "\u001b[36;1m\u001b[1;3m[-1:checkpoint]\u001b[0m \u001b[1mState at the end of step -1:\n",
      "\u001b[0m{'messages': []}\n",
      "\u001b[36;1m\u001b[1;3m[0:tasks]\u001b[0m \u001b[1mStarting step 0 with 1 task:\n",
      "\u001b[0m- \u001b[32;1m\u001b[1;3m__start__\u001b[0m -> {'messages': [HumanMessage(content='what is my name?')]}\n",
      "\u001b[36;1m\u001b[1;3m[0:writes]\u001b[0m \u001b[1mFinished step 0 with writes to 1 channel:\n",
      "\u001b[0m- \u001b[33;1m\u001b[1;3mmessages\u001b[0m -> [HumanMessage(content='what is my name?')]\n",
      "================================\u001b[1m Human Message \u001b[0m=================================\n",
      "\n",
      "what is my name?\n",
      "\u001b[36;1m\u001b[1;3m[0:checkpoint]\u001b[0m \u001b[1mState at the end of step 0:\n",
      "\u001b[0m{'messages': [HumanMessage(content='what is my name?', id='429c6b3d-ad25-4cf8-9ed6-68b59a35f4b1')]}\n",
      "\u001b[36;1m\u001b[1;3m[1:tasks]\u001b[0m \u001b[1mStarting step 1 with 1 task:\n",
      "\u001b[0m- \u001b[32;1m\u001b[1;3magent\u001b[0m -> {'messages': [HumanMessage(content='what is my name?', id='429c6b3d-ad25-4cf8-9ed6-68b59a35f4b1')]}\n",
      "\u001b[36;1m\u001b[1;3m[1:writes]\u001b[0m \u001b[1mFinished step 1 with writes to 1 channel:\n",
      "\u001b[0m- \u001b[33;1m\u001b[1;3mmessages\u001b[0m -> AIMessage(content=\"I'm sorry, I do not know your name as I am an AI assistant and do not have access to personal information.\", response_metadata={'finish_reason': 'stop', 'model_name': 'gpt-3.5-turbo-0125'}, id='run-a3b59bb1-215d-4bb0-828e-92248195eac0-0')\n",
      "==================================\u001b[1m Ai Message \u001b[0m==================================\n",
      "\n",
      "I'm sorry, I do not know your name as I am an AI assistant and do not have access to personal information.\n",
      "\u001b[36;1m\u001b[1;3m[1:checkpoint]\u001b[0m \u001b[1mState at the end of step 1:\n",
      "\u001b[0m{'messages': [HumanMessage(content='what is my name?', id='429c6b3d-ad25-4cf8-9ed6-68b59a35f4b1'),\n",
      "              AIMessage(content=\"I'm sorry, I do not know your name as I am an AI assistant and do not have access to personal information.\", response_metadata={'finish_reason': 'stop', 'model_name': 'gpt-3.5-turbo-0125'}, id='run-a3b59bb1-215d-4bb0-828e-92248195eac0-0')]}\n"
     ]
    }
   ],
   "source": [
    "# thread_id를 변경하면 기억이 사라짐\n",
    "input_message = HumanMessage(content=\"what is my name?\")\n",
    "for event in app.stream(\n",
    "    {\"messages\": [input_message]},\n",
    "    {\"configurable\": {\"thread_id\": \"3\"}, \"recursion_limit\": 10},\n",
    "    stream_mode=\"values\",\n",
    "    debug=True\n",
    "):\n",
    "    event[\"messages\"][-1].pretty_print()"
   ]
  },
  {
   "cell_type": "code",
   "execution_count": 19,
   "metadata": {},
   "outputs": [
    {
     "name": "stdout",
     "output_type": "stream",
     "text": [
      "================================\u001b[1m Human Message \u001b[0m=================================\n",
      "\n",
      "You forgot??\n",
      "==================================\u001b[1m Ai Message \u001b[0m==================================\n",
      "\n",
      "My apologies, Bob! I did not forget your name. I was just confirming it with you. How can I assist you today?\n"
     ]
    }
   ],
   "source": [
    "# 없어진 것은 아니기 때문에 계속 사용할 수 있음\n",
    "input_message = HumanMessage(content=\"You forgot??\")\n",
    "for event in app.stream(\n",
    "    {\"messages\": [input_message]},\n",
    "    {\"configurable\": {\"thread_id\": \"2\"}},\n",
    "    stream_mode=\"values\",\n",
    "):\n",
    "    event[\"messages\"][-1].pretty_print()"
   ]
  }
 ],
 "metadata": {
  "kernelspec": {
   "display_name": "langserve",
   "language": "python",
   "name": "python3"
  },
  "language_info": {
   "codemirror_mode": {
    "name": "ipython",
    "version": 3
   },
   "file_extension": ".py",
   "mimetype": "text/x-python",
   "name": "python",
   "nbconvert_exporter": "python",
   "pygments_lexer": "ipython3",
   "version": "3.11.9"
  }
 },
 "nbformat": 4,
 "nbformat_minor": 2
}
