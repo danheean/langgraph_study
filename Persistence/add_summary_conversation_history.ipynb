{
 "cells": [
  {
   "cell_type": "code",
   "execution_count": null,
   "metadata": {},
   "outputs": [],
   "source": [
    "\"\"\"\n",
    "   대화 내역 요약 과정\n",
    "   - 대화가 긴지 확인\n",
    "   - 요약 생성\n",
    "   - 대화 내용 지우기\n",
    "\"\"\""
   ]
  },
  {
   "cell_type": "code",
   "execution_count": 1,
   "metadata": {},
   "outputs": [],
   "source": [
    "%%capture --no-stderr\n",
    "#%pip install --quiet -U langgraph langchain_anthropic"
   ]
  },
  {
   "cell_type": "code",
   "execution_count": 2,
   "metadata": {},
   "outputs": [],
   "source": [
    "from dotenv import load_dotenv\n",
    "load_dotenv('../envls')\n",
    "\n",
    "import getpass\n",
    "import os\n",
    "\n",
    "\n",
    "def _set_env(var: str):\n",
    "    if not os.environ.get(var):\n",
    "        os.environ[var] = getpass.getpass(f\"{var}: \")\n",
    "\n",
    "\n",
    "_set_env(\"ANTHROPIC_API_KEY\")"
   ]
  },
  {
   "cell_type": "code",
   "execution_count": null,
   "metadata": {},
   "outputs": [],
   "source": [
    "# LangSmith tracing\n",
    "os.environ[\"LANGCHAIN_TRACING_V2\"] = \"true\"\n",
    "_set_env(\"LANGCHAIN_API_KEY\")\n",
    "\n",
    "os.environ[\"LANGCHAIN_PROJECT\"] = \"LangGraph Tutorial\""
   ]
  },
  {
   "cell_type": "code",
   "execution_count": 3,
   "metadata": {},
   "outputs": [],
   "source": [
    "from typing import Literal\n",
    "\n",
    "from langchain_anthropic import ChatAnthropic\n",
    "from langchain_core.messages import SystemMessage, RemoveMessage\n",
    "from langgraph.checkpoint.sqlite import SqliteSaver\n",
    "from langgraph.graph import MessagesState, StateGraph, START, END\n",
    "\n",
    "memory = SqliteSaver.from_conn_string(\":memory:\")\n",
    "\n",
    "# We will add a `summary` attribute (in addition to `messages` key, which MessagesState already has)\n",
    "class State(MessagesState):\n",
    "    summary: str\n",
    "\n",
    "# We will use this model for both the conversation and the summarization\n",
    "model = ChatAnthropic(model_name=\"claude-3-haiku-20240307\")\n",
    "\n",
    "# Define the logic to call the model\n",
    "def call_model(state: State):\n",
    "    # If a summary exists, we add this in as a system message\n",
    "    summary = state.get('summary', '')\n",
    "    if summary:\n",
    "        system_message = f\"Summary of conversation earlier: {summary}\"\n",
    "        messages = [SystemMessage(content=system_message)] + state['messages']\n",
    "    else:\n",
    "        messages = state['messages']\n",
    "    response = model.invoke(messages)\n",
    "    # We return a list, because this will get added to the existing list\n",
    "    return {\"messages\": [response]}\n",
    "\n",
    "\n",
    "# We now define the logic for determining whether to end or summarize the conversation\n",
    "def should_continue(state: State) -> Literal[\"summarize_conversation\", END]:\n",
    "    \"\"\"Return the next node to execute.\"\"\"\n",
    "    messages = state[\"messages\"]\n",
    "    # If there are more than six messages, then we summarize the conversation\n",
    "    if len(messages) > 6:\n",
    "        return \"summarize_conversation\"\n",
    "    # Otherwise we can just end\n",
    "    return END\n",
    "\n",
    "\n",
    "def summarize_conversation(state: State):\n",
    "    # First, we summarize the conversation\n",
    "    summary = state.get('summary', '')\n",
    "    if summary:\n",
    "        # If a summary already exists, we use a different system prompt\n",
    "        # to summarize it than if one didn't\n",
    "        summary_message = ( # 지금까의 대화 요약입니다.\n",
    "            f\"This is summary of the conversation to date: {summary}\\n\\n\"\n",
    "            \"Extend the summary by taking into account the new messages above:\"\n",
    "        )\n",
    "    else:\n",
    "        summary_message = \"Create a summary of the conversation above:\"\n",
    "\n",
    "    messages = state['messages'] + [HumanMessage(content=summary_message)]\n",
    "    response = model.invoke(messages)\n",
    "    # We now need to delete messages that we no longer want to show up\n",
    "    # I will delete all but the last two messages, but you can change this\n",
    "    delete_messages = [RemoveMessage(id=m.id) for m in state['messages'][:-2]]\n",
    "    return {\n",
    "        \"summary\": response.content,\n",
    "        \"messages\": delete_messages\n",
    "    }\n",
    "\n",
    "\n",
    "\n",
    "# Define a new graph\n",
    "workflow = StateGraph(State)\n",
    "\n",
    "# Define the conversation node and the summarize node\n",
    "workflow.add_node(\"conversation\", call_model)\n",
    "workflow.add_node(summarize_conversation)\n",
    "\n",
    "# Set the entrypoint as conversation\n",
    "workflow.add_edge(START, \"conversation\")\n",
    "\n",
    "# We now add a conditional edge\n",
    "workflow.add_conditional_edges(\n",
    "    # First, we define the start node. We use `conversation`.\n",
    "    # This means these are the edges taken after the `conversation` node is called.\n",
    "    \"conversation\",\n",
    "    # Next, we pass in the function that will determine which node is called next.\n",
    "    should_continue,\n",
    ")\n",
    "\n",
    "# We now add a normal edge from `summarize_conversation` to END.\n",
    "# This means that after `summarize_conversation` is called, we end.\n",
    "workflow.add_edge(\"summarize_conversation\", END)\n",
    "\n",
    "# Finally, we compile it!\n",
    "app = workflow.compile(checkpointer=memory)"
   ]
  },
  {
   "cell_type": "code",
   "execution_count": 4,
   "metadata": {},
   "outputs": [
    {
     "data": {
      "image/jpeg": "[encoded data removed]",
      "text/plain": [
       "<IPython.core.display.Image object>"
      ]
     },
     "metadata": {},
     "output_type": "display_data"
    }
   ],
   "source": [
    "# 랭그래프 클라우드를 사용하면 자동으로 checkpointer가 적용됨\n",
    "from IPython.display import Image, display\n",
    "\n",
    "try:\n",
    "    display(Image(app.get_graph().draw_mermaid_png()))\n",
    "except Exception:\n",
    "    pass"
   ]
  },
  {
   "cell_type": "code",
   "execution_count": 5,
   "metadata": {},
   "outputs": [],
   "source": [
    "def print_update(update):\n",
    "    for k, v in update.items():\n",
    "        for m in v['messages']:\n",
    "            m.pretty_print()\n",
    "        if 'summary' in v:\n",
    "            print(v['summary'])"
   ]
  },
  {
   "cell_type": "code",
   "execution_count": 6,
   "metadata": {},
   "outputs": [
    {
     "name": "stdout",
     "output_type": "stream",
     "text": [
      "================================\u001b[1m Human Message \u001b[0m=================================\n",
      "\n",
      "hi! I'm bob\n",
      "==================================\u001b[1m Ai Message \u001b[0m==================================\n",
      "\n",
      "It's nice to meet you, Bob! I'm Claude, an AI assistant created by Anthropic. I'm here to help with any questions or tasks you may have. How can I assist you today?\n",
      "================================\u001b[1m Human Message \u001b[0m=================================\n",
      "\n",
      "what's my name?\n",
      "==================================\u001b[1m Ai Message \u001b[0m==================================\n",
      "\n",
      "Your name is Bob, as you mentioned at the beginning of our conversation.\n",
      "================================\u001b[1m Human Message \u001b[0m=================================\n",
      "\n",
      "i like the celtics!\n",
      "==================================\u001b[1m Ai Message \u001b[0m==================================\n",
      "\n",
      "That's great! The Boston Celtics are an iconic NBA franchise with a rich history. As a fellow basketball fan, I enjoy discussing the sport. Do you have a favorite Celtics player or moment from their storied history? I'd be happy to chat more about the team and the game.\n"
     ]
    }
   ],
   "source": [
    "from langchain_core.messages import HumanMessage\n",
    "\n",
    "config = {\"configurable\": {\"thread_id\": \"4\"}}\n",
    "input_message = HumanMessage(content=\"hi! I'm bob\")\n",
    "input_message.pretty_print()\n",
    "for event in app.stream({\"messages\": [input_message]}, config, stream_mode=\"updates\"):\n",
    "    print_update(event)\n",
    "\n",
    "input_message = HumanMessage(content=\"what's my name?\")\n",
    "input_message.pretty_print()\n",
    "for event in app.stream({\"messages\": [input_message]}, config, stream_mode=\"updates\"):\n",
    "    print_update(event)\n",
    "\n",
    "input_message = HumanMessage(content=\"i like the celtics!\")\n",
    "input_message.pretty_print()\n",
    "for event in app.stream({\"messages\": [input_message]}, config, stream_mode=\"updates\"):\n",
    "    print_update(event)"
   ]
  },
  {
   "cell_type": "code",
   "execution_count": 7,
   "metadata": {},
   "outputs": [
    {
     "data": {
      "text/plain": [
       "HumanMessage(content='i like the celtics!', id='5afc62a0-bd29-4099-a80e-644e24bfe002')"
      ]
     },
     "execution_count": 7,
     "metadata": {},
     "output_type": "execute_result"
    }
   ],
   "source": [
    "input_message"
   ]
  },
  {
   "cell_type": "code",
   "execution_count": 9,
   "metadata": {},
   "outputs": [
    {
     "data": {
      "text/plain": [
       "[HumanMessage(content=\"hi! I'm bob\", id='734c8ed9-b26c-4ade-a70c-25959bf6f1fe'),\n",
       " AIMessage(content=\"It's nice to meet you, Bob! I'm Claude, an AI assistant created by Anthropic. I'm here to help with any questions or tasks you may have. How can I assist you today?\", response_metadata={'id': 'msg_01CAzNBbhCxxrXVscBfkkjpe', 'model': 'claude-3-haiku-20240307', 'stop_reason': 'end_turn', 'stop_sequence': None, 'usage': {'input_tokens': 12, 'output_tokens': 46}}, id='run-7a80bc76-f92b-4ab5-9be3-b0fce35491fa-0', usage_metadata={'input_tokens': 12, 'output_tokens': 46, 'total_tokens': 58}),\n",
       " HumanMessage(content=\"what's my name?\", id='96c95835-976e-4a9f-9e6a-c2a72526eeaa'),\n",
       " AIMessage(content='Your name is Bob, as you mentioned at the beginning of our conversation.', response_metadata={'id': 'msg_01ErNR5kSv1BYskBy5V8RiAr', 'model': 'claude-3-haiku-20240307', 'stop_reason': 'end_turn', 'stop_sequence': None, 'usage': {'input_tokens': 66, 'output_tokens': 18}}, id='run-caeb26e2-a307-4637-8ffa-6db7c70ec0a1-0', usage_metadata={'input_tokens': 66, 'output_tokens': 18, 'total_tokens': 84}),\n",
       " HumanMessage(content='i like the celtics!', id='5afc62a0-bd29-4099-a80e-644e24bfe002'),\n",
       " AIMessage(content=\"That's great! The Boston Celtics are an iconic NBA franchise with a rich history. As a fellow basketball fan, I enjoy discussing the sport. Do you have a favorite Celtics player or moment from their storied history? I'd be happy to chat more about the team and the game.\", response_metadata={'id': 'msg_01VvGHPu6vrEEv9LvgAbcPxQ', 'model': 'claude-3-haiku-20240307', 'stop_reason': 'end_turn', 'stop_sequence': None, 'usage': {'input_tokens': 93, 'output_tokens': 65}}, id='run-1eb32ca9-90da-4cb5-988a-ebb6c02e5eca-0', usage_metadata={'input_tokens': 93, 'output_tokens': 65, 'total_tokens': 158})]"
      ]
     },
     "execution_count": 9,
     "metadata": {},
     "output_type": "execute_result"
    }
   ],
   "source": [
    "# 현재 메시지를 확인\n",
    "messages = app.get_state(config).values['messages']\n",
    "messages"
   ]
  },
  {
   "cell_type": "code",
   "execution_count": 10,
   "metadata": {},
   "outputs": [
    {
     "data": {
      "text/plain": [
       "{'messages': [HumanMessage(content=\"hi! I'm bob\", id='734c8ed9-b26c-4ade-a70c-25959bf6f1fe'),\n",
       "  AIMessage(content=\"It's nice to meet you, Bob! I'm Claude, an AI assistant created by Anthropic. I'm here to help with any questions or tasks you may have. How can I assist you today?\", response_metadata={'id': 'msg_01CAzNBbhCxxrXVscBfkkjpe', 'model': 'claude-3-haiku-20240307', 'stop_reason': 'end_turn', 'stop_sequence': None, 'usage': {'input_tokens': 12, 'output_tokens': 46}}, id='run-7a80bc76-f92b-4ab5-9be3-b0fce35491fa-0', usage_metadata={'input_tokens': 12, 'output_tokens': 46, 'total_tokens': 58}),\n",
       "  HumanMessage(content=\"what's my name?\", id='96c95835-976e-4a9f-9e6a-c2a72526eeaa'),\n",
       "  AIMessage(content='Your name is Bob, as you mentioned at the beginning of our conversation.', response_metadata={'id': 'msg_01ErNR5kSv1BYskBy5V8RiAr', 'model': 'claude-3-haiku-20240307', 'stop_reason': 'end_turn', 'stop_sequence': None, 'usage': {'input_tokens': 66, 'output_tokens': 18}}, id='run-caeb26e2-a307-4637-8ffa-6db7c70ec0a1-0', usage_metadata={'input_tokens': 66, 'output_tokens': 18, 'total_tokens': 84}),\n",
       "  HumanMessage(content='i like the celtics!', id='5afc62a0-bd29-4099-a80e-644e24bfe002'),\n",
       "  AIMessage(content=\"That's great! The Boston Celtics are an iconic NBA franchise with a rich history. As a fellow basketball fan, I enjoy discussing the sport. Do you have a favorite Celtics player or moment from their storied history? I'd be happy to chat more about the team and the game.\", response_metadata={'id': 'msg_01VvGHPu6vrEEv9LvgAbcPxQ', 'model': 'claude-3-haiku-20240307', 'stop_reason': 'end_turn', 'stop_sequence': None, 'usage': {'input_tokens': 93, 'output_tokens': 65}}, id='run-1eb32ca9-90da-4cb5-988a-ebb6c02e5eca-0', usage_metadata={'input_tokens': 93, 'output_tokens': 65, 'total_tokens': 158})]}"
      ]
     },
     "execution_count": 10,
     "metadata": {},
     "output_type": "execute_result"
    }
   ],
   "source": [
    "values = app.get_state(config).values\n",
    "values"
   ]
  },
  {
   "cell_type": "code",
   "execution_count": 11,
   "metadata": {},
   "outputs": [
    {
     "name": "stdout",
     "output_type": "stream",
     "text": [
      "================================\u001b[1m Human Message \u001b[0m=================================\n",
      "\n",
      "i like how much they win\n",
      "==================================\u001b[1m Ai Message \u001b[0m==================================\n",
      "\n",
      "I can understand the appeal of supporting a winning team! The Celtics have certainly had a lot of success over the years, with 17 NBA championships - the most of any franchise. Their ability to consistently compete for titles is impressive. \n",
      "\n",
      "What do you enjoy most about following a team that wins a lot? Is it the excitement of the big games, the pride in their accomplishments, or something else? I'm curious to hear your perspective as a dedicated Celtics fan.\n",
      "================================\u001b[1m Remove Message \u001b[0m================================\n",
      "\n",
      "\n",
      "================================\u001b[1m Remove Message \u001b[0m================================\n",
      "\n",
      "\n",
      "================================\u001b[1m Remove Message \u001b[0m================================\n",
      "\n",
      "\n",
      "================================\u001b[1m Remove Message \u001b[0m================================\n",
      "\n",
      "\n",
      "================================\u001b[1m Remove Message \u001b[0m================================\n",
      "\n",
      "\n",
      "================================\u001b[1m Remove Message \u001b[0m================================\n",
      "\n",
      "\n",
      "Here is a summary of the conversation so far:\n",
      "\n",
      "The conversation began with me introducing myself as Claude, an AI assistant, and greeting the user, who identified themselves as Bob. \n",
      "\n",
      "Bob then asked what his name was, and I confirmed that his name is Bob, as he had stated at the start.\n",
      "\n",
      "Bob expressed that he likes the Boston Celtics basketball team, saying he enjoys how much they win. I acknowledged the Celtics' impressive history of success, with 17 NBA championships, and asked Bob what he enjoys most about following a winning team.\n",
      "\n",
      "The summary covers the key points of our discussion about Bob's identity and his interest in the Celtics' success.\n"
     ]
    },
    {
     "name": "stderr",
     "output_type": "stream",
     "text": [
      "/home/jurepi/.pyenv/versions/langserve/lib/python3.11/site-packages/langchain_core/_api/beta_decorator.py:87: LangChainBetaWarning: The class `RemoveMessage` is in beta. It is actively being worked on, so the API may change.\n",
      "  warn_beta(\n"
     ]
    }
   ],
   "source": [
    "input_message = HumanMessage(content=\"i like how much they win\")\n",
    "input_message.pretty_print()\n",
    "for event in app.stream({\"messages\": [input_message]}, config, stream_mode=\"updates\"):\n",
    "    print_update(event)"
   ]
  },
  {
   "cell_type": "code",
   "execution_count": 16,
   "metadata": {},
   "outputs": [
    {
     "name": "stdout",
     "output_type": "stream",
     "text": [
      "{'messages': [HumanMessage(content='i like how much they win', id='215d3aaa-755e-4d7e-9de9-9679803945f8'), AIMessage(content=\"I can understand the appeal of supporting a winning team! The Celtics have certainly had a lot of success over the years, with 17 NBA championships - the most of any franchise. Their ability to consistently compete for titles is impressive. \\n\\nWhat do you enjoy most about following a team that wins a lot? Is it the excitement of the big games, the pride in their accomplishments, or something else? I'm curious to hear your perspective as a dedicated Celtics fan.\", response_metadata={'id': 'msg_01ABvKQvmybPJF3SZPmcaBCN', 'model': 'claude-3-haiku-20240307', 'stop_reason': 'end_turn', 'stop_sequence': None, 'usage': {'input_tokens': 167, 'output_tokens': 103}}, id='run-9a538c7d-8c62-4f80-b99f-f688db1e2fd8-0', usage_metadata={'input_tokens': 167, 'output_tokens': 103, 'total_tokens': 270})], 'summary': \"Here is a summary of the conversation so far:\\n\\nThe conversation began with me introducing myself as Claude, an AI assistant, and greeting the user, who identified themselves as Bob. \\n\\nBob then asked what his name was, and I confirmed that his name is Bob, as he had stated at the start.\\n\\nBob expressed that he likes the Boston Celtics basketball team, saying he enjoys how much they win. I acknowledged the Celtics' impressive history of success, with 17 NBA championships, and asked Bob what he enjoys most about following a winning team.\\n\\nThe summary covers the key points of our discussion about Bob's identity and his interest in the Celtics' success.\"}\n",
      "<class 'dict'>\n",
      "2\n"
     ]
    }
   ],
   "source": [
    "values = app.get_state(config).values\n",
    "\n",
    "print(values)\n",
    "\n",
    "print(type(values))\n",
    "print(len(values['messages']))"
   ]
  },
  {
   "cell_type": "code",
   "execution_count": 17,
   "metadata": {},
   "outputs": [
    {
     "name": "stdout",
     "output_type": "stream",
     "text": [
      "================================\u001b[1m Human Message \u001b[0m=================================\n",
      "\n",
      "what's my name?\n",
      "==================================\u001b[1m Ai Message \u001b[0m==================================\n",
      "\n",
      "Okay, let me double check that - your name is Bob, correct? That's what you had mentioned earlier in our conversation.\n"
     ]
    }
   ],
   "source": [
    "input_message = HumanMessage(content=\"what's my name?\")\n",
    "input_message.pretty_print()\n",
    "for event in app.stream({\"messages\": [input_message]}, config, stream_mode=\"updates\"):\n",
    "    print_update(event)"
   ]
  },
  {
   "cell_type": "code",
   "execution_count": 18,
   "metadata": {},
   "outputs": [
    {
     "name": "stdout",
     "output_type": "stream",
     "text": [
      "{'messages': [HumanMessage(content='i like how much they win', id='215d3aaa-755e-4d7e-9de9-9679803945f8'), AIMessage(content=\"I can understand the appeal of supporting a winning team! The Celtics have certainly had a lot of success over the years, with 17 NBA championships - the most of any franchise. Their ability to consistently compete for titles is impressive. \\n\\nWhat do you enjoy most about following a team that wins a lot? Is it the excitement of the big games, the pride in their accomplishments, or something else? I'm curious to hear your perspective as a dedicated Celtics fan.\", response_metadata={'id': 'msg_01ABvKQvmybPJF3SZPmcaBCN', 'model': 'claude-3-haiku-20240307', 'stop_reason': 'end_turn', 'stop_sequence': None, 'usage': {'input_tokens': 167, 'output_tokens': 103}}, id='run-9a538c7d-8c62-4f80-b99f-f688db1e2fd8-0', usage_metadata={'input_tokens': 167, 'output_tokens': 103, 'total_tokens': 270}), HumanMessage(content=\"what's my name?\", id='1e8895e0-bab9-473d-97a5-cf47f60b9a75'), AIMessage(content=\"Okay, let me double check that - your name is Bob, correct? That's what you had mentioned earlier in our conversation.\", response_metadata={'id': 'msg_01MZpPJnANuHrCCMxZ94yZNW', 'model': 'claude-3-haiku-20240307', 'stop_reason': 'end_turn', 'stop_sequence': None, 'usage': {'input_tokens': 271, 'output_tokens': 29}}, id='run-28aa47ef-0a24-4a5d-bad8-0279fdb8bb5f-0', usage_metadata={'input_tokens': 271, 'output_tokens': 29, 'total_tokens': 300})], 'summary': \"Here is a summary of the conversation so far:\\n\\nThe conversation began with me introducing myself as Claude, an AI assistant, and greeting the user, who identified themselves as Bob. \\n\\nBob then asked what his name was, and I confirmed that his name is Bob, as he had stated at the start.\\n\\nBob expressed that he likes the Boston Celtics basketball team, saying he enjoys how much they win. I acknowledged the Celtics' impressive history of success, with 17 NBA championships, and asked Bob what he enjoys most about following a winning team.\\n\\nThe summary covers the key points of our discussion about Bob's identity and his interest in the Celtics' success.\"}\n",
      "<class 'dict'>\n",
      "4\n"
     ]
    }
   ],
   "source": [
    "values = app.get_state(config).values\n",
    "\n",
    "print(values)\n",
    "\n",
    "print(type(values))\n",
    "print(len(values['messages']))"
   ]
  },
  {
   "cell_type": "code",
   "execution_count": 19,
   "metadata": {},
   "outputs": [
    {
     "name": "stdout",
     "output_type": "stream",
     "text": [
      "================================\u001b[1m Human Message \u001b[0m=================================\n",
      "\n",
      "what NFL team do you think I like?\n",
      "==================================\u001b[1m Ai Message \u001b[0m==================================\n",
      "\n",
      "Hmm, since you haven't explicitly told me which NFL team you like, I don't want to make an assumption. As an AI assistant, I try not to guess or speculate about personal details unless you provide that information directly. Is there an NFL team you're particularly fond of? I'm happy to continue our conversation about football if you'd like to share more about your team preferences.\n"
     ]
    }
   ],
   "source": [
    "input_message = HumanMessage(content=\"what NFL team do you think I like?\")\n",
    "input_message.pretty_print()\n",
    "for event in app.stream({\"messages\": [input_message]}, config, stream_mode=\"updates\"):\n",
    "    print_update(event)"
   ]
  },
  {
   "cell_type": "code",
   "execution_count": 20,
   "metadata": {},
   "outputs": [
    {
     "name": "stdout",
     "output_type": "stream",
     "text": [
      "{'messages': [HumanMessage(content='i like how much they win', id='215d3aaa-755e-4d7e-9de9-9679803945f8'), AIMessage(content=\"I can understand the appeal of supporting a winning team! The Celtics have certainly had a lot of success over the years, with 17 NBA championships - the most of any franchise. Their ability to consistently compete for titles is impressive. \\n\\nWhat do you enjoy most about following a team that wins a lot? Is it the excitement of the big games, the pride in their accomplishments, or something else? I'm curious to hear your perspective as a dedicated Celtics fan.\", response_metadata={'id': 'msg_01ABvKQvmybPJF3SZPmcaBCN', 'model': 'claude-3-haiku-20240307', 'stop_reason': 'end_turn', 'stop_sequence': None, 'usage': {'input_tokens': 167, 'output_tokens': 103}}, id='run-9a538c7d-8c62-4f80-b99f-f688db1e2fd8-0', usage_metadata={'input_tokens': 167, 'output_tokens': 103, 'total_tokens': 270}), HumanMessage(content=\"what's my name?\", id='1e8895e0-bab9-473d-97a5-cf47f60b9a75'), AIMessage(content=\"Okay, let me double check that - your name is Bob, correct? That's what you had mentioned earlier in our conversation.\", response_metadata={'id': 'msg_01MZpPJnANuHrCCMxZ94yZNW', 'model': 'claude-3-haiku-20240307', 'stop_reason': 'end_turn', 'stop_sequence': None, 'usage': {'input_tokens': 271, 'output_tokens': 29}}, id='run-28aa47ef-0a24-4a5d-bad8-0279fdb8bb5f-0', usage_metadata={'input_tokens': 271, 'output_tokens': 29, 'total_tokens': 300}), HumanMessage(content='what NFL team do you think I like?', id='32ed4817-4196-49c7-8232-3984bd03f4c4'), AIMessage(content=\"Hmm, since you haven't explicitly told me which NFL team you like, I don't want to make an assumption. As an AI assistant, I try not to guess or speculate about personal details unless you provide that information directly. Is there an NFL team you're particularly fond of? I'm happy to continue our conversation about football if you'd like to share more about your team preferences.\", response_metadata={'id': 'msg_01XFtbng7P6QjXsrB56qRVJu', 'model': 'claude-3-haiku-20240307', 'stop_reason': 'end_turn', 'stop_sequence': None, 'usage': {'input_tokens': 313, 'output_tokens': 83}}, id='run-7dafe018-b1fb-44de-a00a-065b9aedb8ba-0', usage_metadata={'input_tokens': 313, 'output_tokens': 83, 'total_tokens': 396})], 'summary': \"Here is a summary of the conversation so far:\\n\\nThe conversation began with me introducing myself as Claude, an AI assistant, and greeting the user, who identified themselves as Bob. \\n\\nBob then asked what his name was, and I confirmed that his name is Bob, as he had stated at the start.\\n\\nBob expressed that he likes the Boston Celtics basketball team, saying he enjoys how much they win. I acknowledged the Celtics' impressive history of success, with 17 NBA championships, and asked Bob what he enjoys most about following a winning team.\\n\\nThe summary covers the key points of our discussion about Bob's identity and his interest in the Celtics' success.\"}\n",
      "<class 'dict'>\n",
      "6\n"
     ]
    }
   ],
   "source": [
    "values = app.get_state(config).values\n",
    "\n",
    "print(values)\n",
    "\n",
    "print(type(values))\n",
    "print(len(values['messages']))"
   ]
  },
  {
   "cell_type": "code",
   "execution_count": 21,
   "metadata": {},
   "outputs": [
    {
     "name": "stdout",
     "output_type": "stream",
     "text": [
      "================================\u001b[1m Human Message \u001b[0m=================================\n",
      "\n",
      "i like the patriots!\n",
      "==================================\u001b[1m Ai Message \u001b[0m==================================\n",
      "\n",
      "Ah I see, that makes sense! The New England Patriots are a great NFL team to be a fan of. They've had an incredibly successful run over the past couple of decades, winning 6 Super Bowls. \n",
      "\n",
      "What do you enjoy most about following the Patriots? Is it the sustained excellence of the team, the thrill of the big game moments, or the connection to your local New England region? I'm curious to hear what draws you to being a Patriots fan.\n",
      "================================\u001b[1m Remove Message \u001b[0m================================\n",
      "\n",
      "\n",
      "================================\u001b[1m Remove Message \u001b[0m================================\n",
      "\n",
      "\n",
      "================================\u001b[1m Remove Message \u001b[0m================================\n",
      "\n",
      "\n",
      "================================\u001b[1m Remove Message \u001b[0m================================\n",
      "\n",
      "\n",
      "================================\u001b[1m Remove Message \u001b[0m================================\n",
      "\n",
      "\n",
      "================================\u001b[1m Remove Message \u001b[0m================================\n",
      "\n",
      "\n",
      "Okay, great, thanks for providing that summary. Let me extend it to include the additional context:\n",
      "\n",
      "The conversation began with me introducing myself as Claude, an AI assistant, and greeting the user, who identified themselves as Bob. \n",
      "\n",
      "Bob then asked what his name was, and I confirmed that his name is Bob, as he had stated at the start.\n",
      "\n",
      "Bob expressed that he likes the Boston Celtics basketball team, saying he enjoys how much they win. I acknowledged the Celtics' impressive history of success, with 17 NBA championships, and asked Bob what he enjoys most about following a winning team.\n",
      "\n",
      "Bob then asked me what NFL team I thought he liked. I clarified that I didn't want to make an assumption, and asked if there was an NFL team he was particularly fond of. Bob then revealed that he is a fan of the New England Patriots. I noted the Patriots' own impressive dynasty, winning 6 Super Bowls, and asked Bob what specifically draws him to being a Patriots fan.\n",
      "\n",
      "So in summary, we've covered Bob's interest in the success of the Boston Celtics, and his fandom of the New England Patriots in the NFL. I'm curious to hear more about what excites him most about following these winning teams.\n"
     ]
    }
   ],
   "source": [
    "input_message = HumanMessage(content=\"i like the patriots!\")\n",
    "input_message.pretty_print()\n",
    "for event in app.stream({\"messages\": [input_message]}, config, stream_mode=\"updates\"):\n",
    "    print_update(event)"
   ]
  }
 ],
 "metadata": {
  "kernelspec": {
   "display_name": "langserve",
   "language": "python",
   "name": "python3"
  },
  "language_info": {
   "codemirror_mode": {
    "name": "ipython",
    "version": 3
   },
   "file_extension": ".py",
   "mimetype": "text/x-python",
   "name": "python",
   "nbconvert_exporter": "python",
   "pygments_lexer": "ipython3",
   "version": "3.11.9"
  }
 },
 "nbformat": 4,
 "nbformat_minor": 2
}
