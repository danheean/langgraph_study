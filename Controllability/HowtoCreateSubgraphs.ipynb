{
 "cells": [
  {
   "cell_type": "markdown",
   "metadata": {},
   "source": [
    "## Controllability(제어 가능성)\n",
    "개요 부분에 해당하며, 그래프를 만드는 여러 예제를 보여 준다.\n",
    "\n",
    "### 하위 그래프 만드는 방법\n",
    "1. 부모 + 자식 그래프 만들기\n",
    "- 1.1 노드를 위한 함수, Tool, LLM, \n",
    "- 1.2 노드 구성\n",
    "- 1.3 에지 연결(START, END도 구성해야 함)\n",
    "- 1.4 컴파일\n",
    "- 1.5 draw_mermaid_png()를 사용하여 그래프 확인\n",
    "- 1.6 invoke()로 START에 데이터 입력\n",
    "- 1.7 debug 옵션(초록색: 입력, 노란색: 결과)이나 랭스미스로 내용 확인 \n",
    "\n",
    "2. 비고\n",
    "- 소스 이해하기가 힘들었음(Annotated, TypedDict)\n",
    "- 인터넷의 소스는 버전에 따라서 다를 수 있음\n",
    "  - START = set_entry_point, END = set_finish_point 사용등"
   ]
  },
  {
   "cell_type": "code",
   "execution_count": null,
   "metadata": {},
   "outputs": [],
   "source": [
    "%%capture --no-stderr\n",
    "#%pip install -U langgraph"
   ]
  },
  {
   "cell_type": "markdown",
   "metadata": {},
   "source": [
    "#### 랭스미스 연결"
   ]
  },
  {
   "cell_type": "code",
   "execution_count": 1,
   "metadata": {},
   "outputs": [],
   "source": [
    "from dotenv import load_dotenv # python-dotenv\n",
    "load_dotenv('../envls')\n",
    "import getpass\n",
    "import os\n",
    "\n",
    "# print(os.getenv('LANGCHAIN_TRACING_V2'))\n",
    "# print(os.getenv('LANGCHAIN_API_KEY'))\n",
    "\n",
    "def _set_env(var: str):\n",
    "    if not os.environ.get(var):\n",
    "        os.environ[var] = getpass.getpass(f\"{var}: \")\n",
    "\n",
    "os.environ[\"LANGCHAIN_TRACING_V2\"] = \"true\"\n",
    "_set_env(\"LANGCHAIN_API_KEY\")"
   ]
  },
  {
   "cell_type": "markdown",
   "metadata": {},
   "source": [
    "#### 추가 라이브러리 설치\n",
    "- poetry add httpx - [최신 비동기 HTTP 클라이언트](https://wikidocs.net/229723)"
   ]
  },
  {
   "cell_type": "code",
   "execution_count": 2,
   "metadata": {},
   "outputs": [],
   "source": [
    "from typing import Annotated\n",
    "from typing_extensions import TypedDict\n",
    "from langgraph.graph import StateGraph, START, END\n",
    "\n",
    "def reduce_list(left: list | None, right: list | None) -> list:\n",
    "    if not left:\n",
    "        left = []\n",
    "    if not right:\n",
    "        right = []\n",
    "    return left + right\n",
    "\n",
    "class ChildState(TypedDict):\n",
    "    name: str\n",
    "    path: Annotated[list[str], reduce_list]\n",
    "\n",
    "class ParentState(TypedDict):\n",
    "    name: str\n",
    "    path: Annotated[list[str], reduce_list]\n",
    "\n",
    "# 자식 생성\n",
    "child_builder = StateGraph(ChildState)\n",
    "\n",
    "# chile_start 노드 추가\n",
    "child_builder.add_node(\"child_start\", lambda state: {\"path\": [\"child_start\"]})\n",
    "child_builder.add_edge(START, \"child_start\")            # START -> child_start 연결\n",
    "\n",
    "# chile_middle 노드 추가\n",
    "child_builder.add_node(\"child_middle\", lambda state: {\"path\": [\"child_middle\"]})\n",
    "\n",
    "# chile_end 노드 추가\n",
    "child_builder.add_node(\"child_end\", lambda state: {\"path\": [\"child_end\"]})\n",
    "\n",
    "child_builder.add_edge(\"child_start\", \"child_middle\")   # child_start -> child_middle 연결\n",
    "child_builder.add_edge(\"child_middle\", \"child_end\")     # child_middle -> child_end 연결\n",
    "child_builder.add_edge(\"child_end\", END)                # child_end -> END 연결\n",
    "\n",
    "# 부모 생성\n",
    "builder = StateGraph(ParentState)\n",
    "\n",
    "# grandparent 노드 추가\n",
    "builder.add_node(\"grandparent\", lambda state: {\"path\": [\"grandparent\"]})\n",
    "builder.add_edge(START, \"grandparent\")                  # START -> grandparent 연결\n",
    "\n",
    "# parent 노드 추가\n",
    "builder.add_node(\"parent\", lambda state: {\"path\": [\"parent\"]})\n",
    "\n",
    "# child 노드 추가\n",
    "builder.add_node(\"child\", child_builder.compile()) # 자식을 통채로 추가\n",
    "\n",
    "# sibling 노드 추가\n",
    "builder.add_node(\"sibling\", lambda state: {\"path\": [\"sibling\"]})\n",
    "\n",
    "# fin 노드 추가\n",
    "builder.add_node(\"fin\", lambda state: {\"path\": [\"fin\"]})\n",
    "\n",
    "# Add connections\n",
    "builder.add_edge(\"grandparent\", \"parent\")   # grandparent -> parent 연결\n",
    "builder.add_edge(\"parent\", \"child\")         # parent -> child 연결\n",
    "builder.add_edge(\"parent\", \"sibling\")       # parent -> sibling 연결\n",
    "builder.add_edge(\"child\", \"fin\")            # child -> fin 연결\n",
    "builder.add_edge(\"sibling\", \"fin\")          # sibling -> fin 연결\n",
    "builder.add_edge(\"fin\", END)                # fin -> END 연결\n",
    "\n",
    "graph = builder.compile()                   # compile"
   ]
  },
  {
   "cell_type": "code",
   "execution_count": 3,
   "metadata": {},
   "outputs": [
    {
     "data": {
      "image/jpeg": "[encoded data removed]",
      "text/plain": [
       "<IPython.core.display.Image object>"
      ]
     },
     "metadata": {},
     "output_type": "display_data"
    }
   ],
   "source": [
    "from IPython.display import Image, display\n",
    "# Setting xray to 1 will show the internal structure of the nested graph\n",
    "display(Image(graph.get_graph(xray=1).draw_mermaid_png()))"
   ]
  },
  {
   "cell_type": "markdown",
   "metadata": {},
   "source": [
    "- 문제점 [\"grandparent\", \"parent\"] 시퀀스가 ​​중복\n",
    "- 자식 상태가 전체 부모 상태를 수신하고 종료되면 전체 부모 상태를 반환하기 때문\n",
    "\n",
    " <img src=\"./images/Duplicated.png\" width=\"900\">\n",
    "\n",
    "### 상태에서 중복이나 충돌을 피하는 방법\n",
    "- 함수 에서 중복을 처리(reduce)\n",
    "- 파이썬 함수 내에서 자식 그래프를 호출합니다. 해당 함수에서 필요에 따라 상태를 처리합니다.\n",
    "- 충돌을 피하기 위해 자식 그래프 키를 업데이트합니다. 그러나 부모가 출력을 해석할 수 있는지 확인해야 합니다."
   ]
  },
  {
   "cell_type": "code",
   "execution_count": 4,
   "metadata": {},
   "outputs": [
    {
     "name": "stdout",
     "output_type": "stream",
     "text": [
      "\u001b[36;1m\u001b[1;3m[0:tasks]\u001b[0m \u001b[1mStarting step 0 with 1 task:\n",
      "\u001b[0m- \u001b[32;1m\u001b[1;3m__start__\u001b[0m -> {'name': 'test'}\n",
      "\u001b[36;1m\u001b[1;3m[0:writes]\u001b[0m \u001b[1mFinished step 0 with writes to 1 channel:\n",
      "\u001b[0m- \u001b[33;1m\u001b[1;3mname\u001b[0m -> 'test'\n",
      "\u001b[36;1m\u001b[1;3m[1:tasks]\u001b[0m \u001b[1mStarting step 1 with 1 task:\n",
      "\u001b[0m- \u001b[32;1m\u001b[1;3mgrandparent\u001b[0m -> {'name': 'test', 'path': []}\n",
      "\u001b[36;1m\u001b[1;3m[1:writes]\u001b[0m \u001b[1mFinished step 1 with writes to 1 channel:\n",
      "\u001b[0m- \u001b[33;1m\u001b[1;3mpath\u001b[0m -> ['grandparent']\n",
      "\u001b[36;1m\u001b[1;3m[2:tasks]\u001b[0m \u001b[1mStarting step 2 with 1 task:\n",
      "\u001b[0m- \u001b[32;1m\u001b[1;3mparent\u001b[0m -> {'name': 'test', 'path': ['grandparent']}\n",
      "\u001b[36;1m\u001b[1;3m[2:writes]\u001b[0m \u001b[1mFinished step 2 with writes to 1 channel:\n",
      "\u001b[0m- \u001b[33;1m\u001b[1;3mpath\u001b[0m -> ['parent']\n",
      "\u001b[36;1m\u001b[1;3m[3:tasks]\u001b[0m \u001b[1mStarting step 3 with 2 tasks:\n",
      "\u001b[0m- \u001b[32;1m\u001b[1;3mchild\u001b[0m -> {'name': 'test', 'path': ['grandparent', 'parent']}\n",
      "- \u001b[32;1m\u001b[1;3msibling\u001b[0m -> {'name': 'test', 'path': ['grandparent', 'parent']}\n",
      "\u001b[36;1m\u001b[1;3m[3:writes]\u001b[0m \u001b[1mFinished step 3 with writes to 2 channels:\n",
      "\u001b[0m- \u001b[33;1m\u001b[1;3mname\u001b[0m -> 'test'\n",
      "- \u001b[33;1m\u001b[1;3mpath\u001b[0m -> ['grandparent', 'parent', 'child_start', 'child_middle', 'child_end'], ['sibling']\n",
      "\u001b[36;1m\u001b[1;3m[4:tasks]\u001b[0m \u001b[1mStarting step 4 with 1 task:\n",
      "\u001b[0m- \u001b[32;1m\u001b[1;3mfin\u001b[0m -> {'name': 'test',\n",
      " 'path': ['grandparent',\n",
      "          'parent',\n",
      "          'grandparent',\n",
      "          'parent',\n",
      "          'child_start',\n",
      "          'child_middle',\n",
      "          'child_end',\n",
      "          'sibling']}\n",
      "\u001b[36;1m\u001b[1;3m[4:writes]\u001b[0m \u001b[1mFinished step 4 with writes to 1 channel:\n",
      "\u001b[0m- \u001b[33;1m\u001b[1;3mpath\u001b[0m -> ['fin']\n"
     ]
    },
    {
     "data": {
      "text/plain": [
       "{'name': 'test',\n",
       " 'path': ['grandparent',\n",
       "  'parent',\n",
       "  'grandparent',\n",
       "  'parent',\n",
       "  'child_start',\n",
       "  'child_middle',\n",
       "  'child_end',\n",
       "  'sibling',\n",
       "  'fin']}"
      ]
     },
     "execution_count": 4,
     "metadata": {},
     "output_type": "execute_result"
    }
   ],
   "source": [
    "graph.invoke({\"name\": \"test\"}, debug=True)"
   ]
  },
  {
   "cell_type": "code",
   "execution_count": 5,
   "metadata": {},
   "outputs": [],
   "source": [
    "import uuid\n",
    "\n",
    "def reduce_list(left: list | None, right: list | None) -> list:\n",
    "    \"\"\"Append the right-hand list, replacing any elements with the same id in the left-hand list.\"\"\"\n",
    "    if not left:\n",
    "        left = []\n",
    "    if not right:\n",
    "        right = []\n",
    "    left_, right_ = [], []\n",
    "    # path에 unique한 값을 추가(중복 제거 용도)\n",
    "    for orig, new in [(left, left_), (right, right_)]:\n",
    "        for val in orig:\n",
    "            if not isinstance(val, dict):\n",
    "                val = {\"val\": val}\n",
    "            if \"id\" not in val:\n",
    "                val[\"id\"] = str(uuid.uuid4())\n",
    "            new.append(val)\n",
    "    # Merge the two lists\n",
    "    left_idx_by_id = {val[\"id\"]: i for i, val in enumerate(left_)}\n",
    "    merged = left_.copy()\n",
    "    for val in right_:\n",
    "        if (existing_idx := left_idx_by_id.get(val[\"id\"])) is not None:\n",
    "            merged[existing_idx] = val\n",
    "        else:\n",
    "            merged.append(val)\n",
    "    return merged\n",
    "\n",
    "\n",
    "class ChildState(TypedDict):\n",
    "    name: str\n",
    "    path: Annotated[list[str], reduce_list]\n",
    "\n",
    "\n",
    "class ParentState(TypedDict):\n",
    "    name: str\n",
    "    path: Annotated[list[str], reduce_list]"
   ]
  },
  {
   "cell_type": "code",
   "execution_count": 6,
   "metadata": {},
   "outputs": [],
   "source": [
    "child_builder = StateGraph(ChildState)\n",
    "\n",
    "child_builder.add_node(\"child_start\", lambda state: {\"path\": [\"child_start\"]})\n",
    "child_builder.add_edge(START, \"child_start\")\n",
    "child_builder.add_node(\"child_middle\", lambda state: {\"path\": [\"child_middle\"]})\n",
    "child_builder.add_node(\"child_end\", lambda state: {\"path\": [\"child_end\"]})\n",
    "child_builder.add_edge(\"child_start\", \"child_middle\")\n",
    "child_builder.add_edge(\"child_middle\", \"child_end\")\n",
    "child_builder.add_edge(\"child_end\", END)\n",
    "\n",
    "builder = StateGraph(ParentState)\n",
    "\n",
    "builder.add_node(\"grandparent\", lambda state: {\"path\": [\"grandparent\"]})\n",
    "builder.add_edge(START, \"grandparent\")\n",
    "builder.add_node(\"parent\", lambda state: {\"path\": [\"parent\"]})\n",
    "builder.add_node(\"child\", child_builder.compile())\n",
    "builder.add_node(\"sibling\", lambda state: {\"path\": [\"sibling\"]})\n",
    "builder.add_node(\"fin\", lambda state: {\"path\": [\"fin\"]})\n",
    "\n",
    "# Add connections\n",
    "builder.add_edge(\"grandparent\", \"parent\")\n",
    "builder.add_edge(\"parent\", \"child\")\n",
    "builder.add_edge(\"parent\", \"sibling\")\n",
    "builder.add_edge(\"child\", \"fin\")\n",
    "builder.add_edge(\"sibling\", \"fin\")\n",
    "builder.add_edge(\"fin\", END)\n",
    "graph = builder.compile()"
   ]
  },
  {
   "cell_type": "code",
   "execution_count": 7,
   "metadata": {},
   "outputs": [
    {
     "data": {
      "image/jpeg": "[encoded data removed]",
      "text/plain": [
       "<IPython.core.display.Image object>"
      ]
     },
     "metadata": {},
     "output_type": "display_data"
    }
   ],
   "source": [
    "from IPython.display import Image, display\n",
    "\n",
    "# Setting xray to 1 will show the internal structure of the nested graph\n",
    "display(Image(graph.get_graph(xray=1).draw_mermaid_png()))"
   ]
  },
  {
   "cell_type": "code",
   "execution_count": 8,
   "metadata": {},
   "outputs": [
    {
     "name": "stdout",
     "output_type": "stream",
     "text": [
      "\u001b[36;1m\u001b[1;3m[0:tasks]\u001b[0m \u001b[1mStarting step 0 with 1 task:\n",
      "\u001b[0m- \u001b[32;1m\u001b[1;3m__start__\u001b[0m -> {'name': 'test'}\n",
      "\u001b[36;1m\u001b[1;3m[0:writes]\u001b[0m \u001b[1mFinished step 0 with writes to 1 channel:\n",
      "\u001b[0m- \u001b[33;1m\u001b[1;3mname\u001b[0m -> 'test'\n",
      "\u001b[36;1m\u001b[1;3m[1:tasks]\u001b[0m \u001b[1mStarting step 1 with 1 task:\n",
      "\u001b[0m- \u001b[32;1m\u001b[1;3mgrandparent\u001b[0m -> {'name': 'test', 'path': []}\n",
      "\u001b[36;1m\u001b[1;3m[1:writes]\u001b[0m \u001b[1mFinished step 1 with writes to 1 channel:\n",
      "\u001b[0m- \u001b[33;1m\u001b[1;3mpath\u001b[0m -> ['grandparent']\n",
      "\u001b[36;1m\u001b[1;3m[2:tasks]\u001b[0m \u001b[1mStarting step 2 with 1 task:\n",
      "\u001b[0m- \u001b[32;1m\u001b[1;3mparent\u001b[0m -> {'name': 'test',\n",
      " 'path': [{'id': '63b32b52-18b2-4c9f-9ee5-3a0095d9443b', 'val': 'grandparent'}]}\n",
      "\u001b[36;1m\u001b[1;3m[2:writes]\u001b[0m \u001b[1mFinished step 2 with writes to 1 channel:\n",
      "\u001b[0m- \u001b[33;1m\u001b[1;3mpath\u001b[0m -> ['parent']\n",
      "\u001b[36;1m\u001b[1;3m[3:tasks]\u001b[0m \u001b[1mStarting step 3 with 2 tasks:\n",
      "\u001b[0m- \u001b[32;1m\u001b[1;3mchild\u001b[0m -> {'name': 'test',\n",
      " 'path': [{'id': '63b32b52-18b2-4c9f-9ee5-3a0095d9443b', 'val': 'grandparent'},\n",
      "          {'id': 'd551aed7-e4c6-4858-b415-b091f19ac559', 'val': 'parent'}]}\n",
      "- \u001b[32;1m\u001b[1;3msibling\u001b[0m -> {'name': 'test',\n",
      " 'path': [{'id': '63b32b52-18b2-4c9f-9ee5-3a0095d9443b', 'val': 'grandparent'},\n",
      "          {'id': 'd551aed7-e4c6-4858-b415-b091f19ac559', 'val': 'parent'}]}\n",
      "\u001b[36;1m\u001b[1;3m[3:writes]\u001b[0m \u001b[1mFinished step 3 with writes to 2 channels:\n",
      "\u001b[0m- \u001b[33;1m\u001b[1;3mname\u001b[0m -> 'test'\n",
      "- \u001b[33;1m\u001b[1;3mpath\u001b[0m -> [{'id': '63b32b52-18b2-4c9f-9ee5-3a0095d9443b', 'val': 'grandparent'},\n",
      " {'id': 'd551aed7-e4c6-4858-b415-b091f19ac559', 'val': 'parent'},\n",
      " {'id': '93a51bf2-b8bd-4f55-94fe-17f320dc07ca', 'val': 'child_start'},\n",
      " {'id': 'c052e112-d3ea-4657-9770-db0d76624ee4', 'val': 'child_middle'},\n",
      " {'id': '6d60b52c-f794-4ca9-9ab5-42e0f297b075', 'val': 'child_end'}], ['sibling']\n",
      "\u001b[36;1m\u001b[1;3m[4:tasks]\u001b[0m \u001b[1mStarting step 4 with 1 task:\n",
      "\u001b[0m- \u001b[32;1m\u001b[1;3mfin\u001b[0m -> {'name': 'test',\n",
      " 'path': [{'id': '63b32b52-18b2-4c9f-9ee5-3a0095d9443b', 'val': 'grandparent'},\n",
      "          {'id': 'd551aed7-e4c6-4858-b415-b091f19ac559', 'val': 'parent'},\n",
      "          {'id': '93a51bf2-b8bd-4f55-94fe-17f320dc07ca', 'val': 'child_start'},\n",
      "          {'id': 'c052e112-d3ea-4657-9770-db0d76624ee4', 'val': 'child_middle'},\n",
      "          {'id': '6d60b52c-f794-4ca9-9ab5-42e0f297b075', 'val': 'child_end'},\n",
      "          {'id': 'ee7f3d4d-9aa9-42ed-a11c-1b8339f88b93', 'val': 'sibling'}]}\n",
      "\u001b[36;1m\u001b[1;3m[4:writes]\u001b[0m \u001b[1mFinished step 4 with writes to 1 channel:\n",
      "\u001b[0m- \u001b[33;1m\u001b[1;3mpath\u001b[0m -> ['fin']\n"
     ]
    },
    {
     "data": {
      "text/plain": [
       "{'name': 'test',\n",
       " 'path': [{'val': 'grandparent', 'id': '63b32b52-18b2-4c9f-9ee5-3a0095d9443b'},\n",
       "  {'val': 'parent', 'id': 'd551aed7-e4c6-4858-b415-b091f19ac559'},\n",
       "  {'val': 'child_start', 'id': '93a51bf2-b8bd-4f55-94fe-17f320dc07ca'},\n",
       "  {'val': 'child_middle', 'id': 'c052e112-d3ea-4657-9770-db0d76624ee4'},\n",
       "  {'val': 'child_end', 'id': '6d60b52c-f794-4ca9-9ab5-42e0f297b075'},\n",
       "  {'val': 'sibling', 'id': 'ee7f3d4d-9aa9-42ed-a11c-1b8339f88b93'},\n",
       "  {'val': 'fin', 'id': 'c011c8c4-3318-4c48-b621-d18fd16ca919'}]}"
      ]
     },
     "execution_count": 8,
     "metadata": {},
     "output_type": "execute_result"
    }
   ],
   "source": [
    "graph.invoke({\"name\": \"test\"}, debug=True)"
   ]
  },
  {
   "cell_type": "code",
   "execution_count": 11,
   "metadata": {},
   "outputs": [
    {
     "name": "stdout",
     "output_type": "stream",
     "text": [
      "\u001b[36;1m\u001b[1;3m[0:tasks]\u001b[0m \u001b[1mStarting step 0 with 1 task:\n",
      "\u001b[0m- \u001b[32;1m\u001b[1;3mnode_1\u001b[0m -> 'Hello'\n",
      "\u001b[36;1m\u001b[1;3m[0:writes]\u001b[0m \u001b[1mFinished step 0 with writes to 1 channel:\n",
      "\u001b[0m- \u001b[33;1m\u001b[1;3mnode_1\u001b[0m -> 'Hello Hi '\n",
      "\u001b[36;1m\u001b[1;3m[1:tasks]\u001b[0m \u001b[1mStarting step 1 with 1 task:\n",
      "\u001b[0m- \u001b[32;1m\u001b[1;3mnode_2\u001b[0m -> 'Hello Hi '\n",
      "\u001b[36;1m\u001b[1;3m[1:writes]\u001b[0m \u001b[1mFinished step 1 with writes to 1 channel:\n",
      "\u001b[0m- \u001b[33;1m\u001b[1;3mnode_2\u001b[0m -> 'Hello Hi there'\n"
     ]
    },
    {
     "data": {
      "text/plain": [
       "'Hello Hi there'"
      ]
     },
     "execution_count": 11,
     "metadata": {},
     "output_type": "execute_result"
    }
   ],
   "source": [
    "# 간단한 예제\n",
    "def function_1(input_1):\n",
    "    return input_1 + \" Hi \"\n",
    "\n",
    "def function_2(input_2):\n",
    "    return input_2 + \"there\"\n",
    "\n",
    "from langgraph.graph import Graph\n",
    "\n",
    "workflow = Graph()\n",
    "\n",
    "workflow.add_node(\"node_1\", function_1)\n",
    "workflow.add_node(\"node_2\", function_2)\n",
    "workflow.add_edge('node_1', 'node_2')\n",
    "workflow.set_entry_point(\"node_1\")\n",
    "workflow.set_finish_point(\"node_2\")\n",
    "\n",
    "app = workflow.compile()\n",
    "\n",
    "app.invoke(\"Hello\", debug=True)"
   ]
  },
  {
   "cell_type": "code",
   "execution_count": 10,
   "metadata": {},
   "outputs": [
    {
     "data": {
      "image/jpeg": "[encoded data removed]",
      "text/plain": [
       "<IPython.core.display.Image object>"
      ]
     },
     "metadata": {},
     "output_type": "display_data"
    }
   ],
   "source": [
    "from IPython.display import Image, display\n",
    "\n",
    "# Setting xray to 1 will show the internal structure of the nested graph\n",
    "display(Image(app.get_graph(xray=1).draw_mermaid_png()))"
   ]
  },
  {
   "cell_type": "markdown",
   "metadata": {},
   "source": [
    "- STATE를 사용하는 이유\n",
    "- node_2에서 입력값(__start__)를 알아야 할 경우가 생긴다.\n",
    "\n",
    "- Input: 라스베가스 도시의 현재 온도는? \n",
    "  1. 입력 문구에서 도시를 추출한다. -> 라스베가스\n",
    "  2. 도시로 부터 날씨 정보를 가져온다. -> 외부 API 사용\n",
    "  3. 날씨 정보로 부터 온도를 가져온다. -> 답변 생성\n",
    "\n",
    "<img src=\"./images/CityTemperature.png\" width=\"900\">"
   ]
  },
  {
   "cell_type": "markdown",
   "metadata": {},
   "source": [
    "### References\n",
    "- [LangGraph - 1. 개요 - 청춘만화](https://normalstory.tistory.com/entry/LangGraph-01)\n",
    "- [langchain을 공부하며 정리](https://teamsmiley.gitbook.io/devops/ai/langchain/langchain)\n",
    "  - 랭체인 관련 정리가 잘 되어 있음\n",
    "- [LangGraph - Multi-Agent Collaboration(다중 협업 에이전트) 로 복잡한 테스크를 수행하는 LLM 어플리케이션 제작 - 테디노트](https://teddylee777.github.io/langgraph/langgraph-multi-agent-collaboration/)\n",
    "- [Learn LangGraph - The Easy Way](https://www.youtube.com/watch?v=R8KB-Zcynxc)\n",
    "  - 쉽게 설명하고 있음\n",
    "- [LangGraph Simple Example](https://www.youtube.com/watch?v=MBhvLHARsyk&t=706s) - [자료 - 종종 서비스가 끊길 수 있음](https://nbviewer.org/github/junji64/LangGraph/blob/main/LangGraph%20-%20Simple%20Example.ipynb)\n",
    "- [LangGraph: Getting Started: Step by Step tutorial to build Agents : Part1](https://www.youtube.com/watch?v=ny215UUXbhI)"
   ]
  },
  {
   "cell_type": "markdown",
   "metadata": {},
   "source": [
    "\n",
    " <img src=\"./images/LangGraph.png\" width=\"398\">\n",
    "\n",
    "Pregel - 대규모 그래프 처리를 위해 Google에서 개발한 분산 컴퓨팅 프레임워크\n",
    "- 소셜 네트워크, 웹 그래프, 도로 네트워크등 대규모 그래프 데이트럴 효율적으로 처리하기 위한 용도\n",
    "- 작동 방식\n",
    "  - 그래프의 각 노드를 독립적으로 계산\n",
    "  - 노드들은 서로 메시지를 주고 받으며 정보 교환\n",
    "  - 각 노드들은 한 단계의 계산을 마치면 다음 단계로 이동\n",
    "- 특징\n",
    "  - 수천 대의 컴퓨터에서 동시에 실행될 수 있음\n",
    "  - 중간에 컴퓨터가 장애가 생겨도 중단없이 실행\n",
    "  - 프로그래머가 복잡한 분산 시스템을 다루지 않아도 됨\n",
    "- 응용\n",
    "  - 페이지랭크 계산, 최단 경로 찾기, 커뮤니티 탐지, 그래프 기반 기계학습"
   ]
  }
 ],
 "metadata": {
  "kernelspec": {
   "display_name": "Python 3.11.9 64-bit ('langserve')",
   "language": "python",
   "name": "python3"
  },
  "language_info": {
   "codemirror_mode": {
    "name": "ipython",
    "version": 3
   },
   "file_extension": ".py",
   "mimetype": "text/x-python",
   "name": "python",
   "nbconvert_exporter": "python",
   "pygments_lexer": "ipython3",
   "version": "3.11.9"
  },
  "orig_nbformat": 4,
  "vscode": {
   "interpreter": {
    "hash": "3ed966c7df3dd01a40e25b73b77f17c9d1e262e99dedbe4cc79826cffc37ad39"
   }
  }
 },
 "nbformat": 4,
 "nbformat_minor": 2
}
