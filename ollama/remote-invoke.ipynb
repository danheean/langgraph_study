{
 "cells": [
  {
   "cell_type": "code",
   "execution_count": 5,
   "metadata": {},
   "outputs": [],
   "source": [
    "from langchain_community.chat_models import ChatOllama\n",
    "from langchain_core.output_parsers import StrOutputParser\n",
    "from langchain_core.prompts import ChatPromptTemplate\n"
   ]
  },
  {
   "cell_type": "code",
   "execution_count": 9,
   "metadata": {},
   "outputs": [
    {
     "name": "stdout",
     "output_type": "stream",
     "text": [
      "딥러닝은 인공신경망을 이용하여 학습하는 머신러닝의 한 분야입니다. \n",
      "\n",
      "**쉽게 말해서**, 사람의 뇌처럼 복잡한 계층 구조를 가진 인공 신경망을 만들고, 데이터를 통해 이 신경망을 훈련시켜 특정 작업을 수행하도록 만듭니다. 예를 들어, 이미지를 보고 고양이인지 강아지인지를 구분하는 모델을 훈련시키거나, 문장을 번역하거나, 음성을 인식하도록 할 수 있습니다.\n",
      "\n",
      "**핵심적인 특징은:**\n",
      "\n",
      "* **계층적 학습:** 데이터를 여러 계층의 인공 신경망에서 순차적으로 처리하여 복잡한 패턴을 학습합니다. \n",
      "* **대량 데이터 학습:**  딥러닝 모델은 방대한 양의 데이터를 통해 효과적으로 학습됩니다. \n",
      "* **자동적 특징 추출:** 데이터에서 중요한 특징을 자동으로 추출하여 학습하는 능력이 있습니다.\n",
      "\n",
      "**예시로는 다음과 같은 분야에서 활용되고 있습니다.**\n",
      "\n",
      "* **컴퓨터 비전:** 이미지 인식, 얼굴 인식, 자율 주행\n",
      "* **자연어 처리:** 기계 번역, 텍스트 생성, 음성 인식\n",
      "* **음성 인공지능:** 음성 비서, 음성 검색, 음성 가상현실\n",
      "\n",
      "**장점:**\n",
      "\n",
      "* 높은 정확도를 달성할 수 있습니다.\n",
      "* 복잡한 패턴을 학습하는 데 효과적입니다.\n",
      "\n",
      "**단점:**\n",
      "\n",
      "* 엄청난 양의 데이터가 필요합니다.\n",
      "* 훈련 시간이 오래 걸릴 수 있습니다.\n",
      "\n",
      "\n",
      "\n"
     ]
    }
   ],
   "source": [
    "# Langchain이 지원하는 다른 채팅 모델을 사용합니다. 여기서는 Ollama를 사용합니다.\n",
    "llm = ChatOllama(model=\"gemma2:latest\")\n",
    "\n",
    "# 주제를 기반으로 짧은 농담을 요청하는 프롬프트 템플릿을 생성합니다.\n",
    "prompt = ChatPromptTemplate.from_template(\"{topic}에 대하여 간략히 설명해 줘.\")\n",
    "\n",
    "# Langchain 표현식 언어 체인 구문을 사용합니다.\n",
    "chain = prompt | llm | StrOutputParser()\n",
    "\n",
    "# 간결성을 위해 응답은 터미널에 출력됩니다.\n",
    "# 프로덕션 환경에서 애플리케이션을 배포하기 위해 Langserve를 사용할 수 있습니다.\n",
    "print(chain.invoke({\"topic\": \"deep learning\"}))"
   ]
  },
  {
   "cell_type": "code",
   "execution_count": 1,
   "metadata": {},
   "outputs": [
    {
     "name": "stdout",
     "output_type": "stream",
     "text": [
      "## 딥러닝: 인공지능의 핵심 기술\n",
      "\n",
      "딥러닝은 인공신경망을 이용하여 데이터를 학습하는 머신러닝의 한 분야입니다. 인간의 뇌처럼 복층 구조를 가지고 있어, 복잡한 패턴과 관계를 배우는 데 매우 유능합니다. \n",
      "\n",
      "**핵심 개념:**\n",
      "\n",
      "* **인공 신경망:**  컴퓨터가 데이터를 처리하는 방식을 모방하여 만들어진 네트워크입니다. 입력층, 은닉층, 출력층으로 구성되며, 각 노드는 가중치와 활성화 함수를 통해 정보를 전달합니다.\n",
      "* **학습 (Training):** 딥러닝 모델은 대량의 데이터를 학습하여 가중치를 조정합니다. 이 과정에서 입력값과 정답을 비교하고 오차를 줄이도록 가중치를 변경하는 알고리즘을 사용합니다.\n",
      "\n",
      "**장점:**\n",
      "\n",
      "* **높은 정확도:** 복잡한 패턴을 배우는 능력이 강하여, 이미지 분류, 자연어 처리 등 다양한 분야에서 높은 정확도를 보입니다.\n",
      "* **자동적 특징 추출:** 데이터 분석을 통해 중요한 특징들을 자동으로 추출하여 사용할 수 있습니다.\n",
      "* **일반화 능력:** 학습된 모델이 새로운 데이터에 대해서도 일반화하는 능력이 높습니다.\n",
      "\n",
      "**단점:**\n",
      "\n",
      "* **데이터량의 요구:** 대량의 데이터를 필요로 하며, 데이터 부족 시 성능 저하가 발생합니다.\n",
      "* **학습 시간:** 학습 과정이 오랜 시간이 소요될 수 있습니다.\n",
      "* **모델 이해도:** 복잡한 구조로 인해 모델의 작동 방식을 완전히 이해하기 어렵습니다.\n",
      "\n",
      "**응용 분야:**\n",
      "\n",
      "* **컴퓨터 비전:** 이미지 분류, 객체 검출, 얼굴 인식 등\n",
      "* **자연어 처리:** 번역, 챗봇, 의사소통 분석 등\n",
      "* **음성 인식:** 음성 변환, 스피커 디텍션 등\n",
      "* **재무 분석:** 사기 예측, 주식 가격 예측 등\n",
      "\n",
      "**결론:**\n",
      "\n",
      "딥러닝은 인공지능의 발전에 중요한 역할을 하고 있으며, 다양한 분야에서 활발하게 연구 및 개발되고 있습니다. 앞으로도 더욱 발전하여 우리 삶에 큰 영향을 미칠 것으로 예상됩니다.\n",
      "\n",
      "\n"
     ]
    }
   ],
   "source": [
    "from langserve import RemoteRunnable\n",
    "\n",
    "# chain = RemoteRunnable(\"http://localhost:8000/prompt/\")\n",
    "chain = RemoteRunnable(\"http://sllm.repia.com:28000/prompt/\")\n",
    "\n",
    "for token in chain.stream({\"topic\": \"딥러닝에 대해서 알려줘\"}):\n",
    "    print(token, end=\"\")\n",
    "\n"
   ]
  },
  {
   "cell_type": "code",
   "execution_count": 6,
   "metadata": {},
   "outputs": [
    {
     "data": {
      "text/plain": [
       "'##  SNS 게시글 형태\\n\\n**옵션 1: 단순하고 감정적인 표현**\\n\\n💖 사랑해! 너무 좋아! 💖\\n\\n\\n**옵션 2: 특별한 누군가를 향한 표현**\\n\\n[누구의 이름]아, 내 마음속에 항상 네가 있어. 🥰 사랑해! \\n\\n**옵션 3: 재미있고 유쾌한 표현**\\n\\n사랑한다는 말이 너무 진지해서, 😂  \"좋아!\"만큼은 자주 이야기하는 편이야! ❤️\\n\\n\\n**팁:** \\n* 이미지나 영상을 함께 업로드하면 더욱 효과적입니다.\\n* 해시태그를 사용하여 관련 커뮤니티에 게시글을 공유하세요 (#사랑 #애정 #오늘의행복).\\n\\n\\n'"
      ]
     },
     "execution_count": 6,
     "metadata": {},
     "output_type": "execute_result"
    }
   ],
   "source": [
    "from langserve import RemoteRunnable\n",
    "from langchain_core.output_parsers import StrOutputParser\n",
    "from langchain_core.prompts import ChatPromptTemplate\n",
    "\n",
    "llm = RemoteRunnable(\"http://sllm.repia.com:28000/llm\")\n",
    "\n",
    "prompt = ChatPromptTemplate.from_template(\n",
    "    \"다음의 내용을 SNS 게시글 형식으로 변환해 주세요:\\n{input}\"\n",
    ")\n",
    "\n",
    "chain = prompt | llm | StrOutputParser()\n",
    "\n",
    "chain.invoke({\"input\": \"I love you so much!\"})"
   ]
  },
  {
   "cell_type": "code",
   "execution_count": 8,
   "metadata": {},
   "outputs": [
    {
     "name": "stdout",
     "output_type": "stream",
     "text": [
      "딥러닝을 사랑해요. (Deeplearning-eul sarangeyo.) \n",
      "\n",
      "Here's the breakdown:\n",
      "\n",
      "* **딥러닝 (deeplearning)** - Deep learning\n",
      "* **을/를 (eul/reul)** - Object marker, indicates what is being loved\n",
      "* **사랑해요 (sarangeyo)** - I love\n",
      "\n",
      "\n",
      "Let me know if you have any other sentences you'd like translated!"
     ]
    }
   ],
   "source": [
    "from langserve import RemoteRunnable\n",
    "\n",
    "chain = RemoteRunnable(\"http://sllm.repia.com:28000/translate/\")\n",
    "\n",
    "for token in chain.stream({\"input\": \"I love deep learning\"}):\n",
    "    print(token, end=\"\")\n"
   ]
  }
 ],
 "metadata": {
  "kernelspec": {
   "display_name": "langserve",
   "language": "python",
   "name": "python3"
  },
  "language_info": {
   "codemirror_mode": {
    "name": "ipython",
    "version": 3
   },
   "file_extension": ".py",
   "mimetype": "text/x-python",
   "name": "python",
   "nbconvert_exporter": "python",
   "pygments_lexer": "ipython3",
   "version": "3.11.9"
  },
  "orig_nbformat": 4
 },
 "nbformat": 4,
 "nbformat_minor": 2
}
