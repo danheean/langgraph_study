{
 "cells": [
  {
   "cell_type": "markdown",
   "metadata": {},
   "source": [
    "### 병렬 실행을 위한 맵리듀스 브랜치 만들기\n",
    "- 맵리듀스 : 객체 목록 생성 -> 각 객체에 대한 작업 수행(병렬 수행) -> 결과 결합\n",
    "- 객체 목록이 정해지지 않아서 그래프를 생성하기 까다롭다. (랭그래프에서 지원하는 함수를 확인하는 것인 목표)\n",
    "- RAG와 비슷한 패턴\n",
    "\n",
    "### 주어진 토픽과 관련한 농담중에 베스트 농담 확인 예제 진행 절차\n",
    "- 모델로부터 주어진 토픽과 관련된 주제를 받아서, 각 주제와 관련한 농담을 병렬로 실행한 후 결과를 합쳐서 베스트 농담 선정\n",
    "1. State 정의 - 토픽, 병렬로 처리하기 위한 주제 리스트, 각 주제와 관련된 농담을 통합할 수 있는 농담 리스트, 베스트 농담\n",
    "2. 병렬 처리를 고려한 노드 구성을 위한 클래스 생성, 함수 생성\n",
    "3. 노드 구성 - 클로드 모델을 상용하며 프롬프트에 따라 문자열, 리스트를 리턴 함\n",
    "4. 병렬 처리를 위해서 add_conditional_edges()를 활용하여 에지 구성(가변적인 주제에 맞게 농담을 가져오는 노드 연결) -> State에서 Reduce됨\n",
    "5. 베스트 농담 처리\n",
    "6. 결과값은 상태에 모두 저장되어 있음\n",
    "\n",
    "### Required\n",
    "- ANTHROPIC_API_KEY - [ANTHROP\\C - Build with the Claude API](https://console.anthropic.com/dashboard)\n",
    "- pyenv add langchain-anthropic"
   ]
  },
  {
   "cell_type": "code",
   "execution_count": null,
   "metadata": {},
   "outputs": [],
   "source": [
    "%%capture --no-stderr\n",
    "#%pip install -U langchain-anthropic langgraph"
   ]
  },
  {
   "cell_type": "markdown",
   "metadata": {},
   "source": [
    "#### 랭스미스 연결, 키 연결"
   ]
  },
  {
   "cell_type": "code",
   "execution_count": 1,
   "metadata": {},
   "outputs": [],
   "source": [
    "from dotenv import load_dotenv\n",
    "load_dotenv('../envls')\n",
    "import os\n",
    "import getpass\n",
    "\n",
    "def _set_env(name: str):\n",
    "    if not os.getenv(name):\n",
    "        os.environ[name] = getpass.getpass(f\"{name}: \")\n",
    "\n",
    "_set_env(\"ANTHROPIC_API_KEY\")\n",
    "_set_env(\"LANGCHAIN_API_KEY\")\n",
    "os.environ[\"LANGCHAIN_TRACING_V2\"] = \"true\""
   ]
  },
  {
   "cell_type": "code",
   "execution_count": 8,
   "metadata": {},
   "outputs": [],
   "source": [
    "import operator\n",
    "from typing import Annotated, TypedDict\n",
    "\n",
    "from langchain_core.pydantic_v1 import BaseModel\n",
    "from langchain_anthropic import ChatAnthropic\n",
    "\n",
    "from langgraph.constants import Send\n",
    "from langgraph.graph import END, StateGraph, START\n",
    "\n",
    "# Model and prompts\n",
    "# Define model and prompts we will use\n",
    "subjects_prompt = \"\"\"Generate a comma separated list of between 2 and 5 {topic}.\"\"\"\n",
    "joke_prompt = \"\"\"Generate a joke about {subject}\"\"\"\n",
    "best_joke_prompt = \"\"\"Below are a bunch of jokes about {topic}. Select the best one! Return the ID of the best one.\n",
    "\n",
    "{jokes}\"\"\"\n",
    "\n",
    "\n",
    "class Subjects(BaseModel):\n",
    "    subjects: list[str]\n",
    "\n",
    "\n",
    "class Joke(BaseModel):\n",
    "    joke: str\n",
    "\n",
    "\n",
    "class BestJoke(BaseModel):\n",
    "    id: int\n",
    "\n",
    "\n",
    "model = ChatAnthropic(model=\"claude-3-5-sonnet-20240620\")\n",
    "# Graph components: define the components that will make up the graph\n",
    "\n",
    "\n",
    "# This will be the overall state of the main graph.\n",
    "# It will contain a topic (which we expect the user to provide)\n",
    "# and then will generate a list of subjects, and then a joke for\n",
    "# each subject\n",
    "class OverallState(TypedDict):\n",
    "    topic: str\n",
    "    subjects: list\n",
    "    # Notice here we use the operator.add\n",
    "    # This is because we want combine all the jokes we generate\n",
    "    # from individual nodes back into one list - this is essentially\n",
    "    # the \"reduce\" part\n",
    "    jokes: Annotated[list, operator.add] # 개별 결과를 하나의 목록으로 결합\n",
    "    best_selected_joke: str\n",
    "\n",
    "\n",
    "# This will be the state of the node that we will \"map\" all\n",
    "# subjects to in order to generate a joke\n",
    "class JokeState(TypedDict):\n",
    "    subject: str\n",
    "\n",
    "\n",
    "# This is the function we will use to generate the subjects of the jokes\n",
    "def generate_topics(state: OverallState):\n",
    "    prompt = subjects_prompt.format(topic=state[\"topic\"])\n",
    "    response = model.with_structured_output(Subjects).invoke(prompt)\n",
    "    return {\"subjects\": response.subjects}\n",
    "\n",
    "\n",
    "# Here we generate a joke, given a subject\n",
    "def generate_joke(state: JokeState):\n",
    "    prompt = joke_prompt.format(subject=state[\"subject\"])\n",
    "    response = model.with_structured_output(Joke).invoke(prompt)\n",
    "    return {\"jokes\": [response.joke]}\n",
    "\n",
    "\n",
    "# Here we define the logic to map out over the generated subjects\n",
    "# We will use this an edge in the graph\n",
    "def continue_to_jokes(state: OverallState):\n",
    "    # We will return a list of `Send` objects\n",
    "    # Each `Send` object consists of the name of a node in the graph\n",
    "    # as well as the state to send to that node\n",
    "    return [Send(\"generate_joke\", {\"subject\": s}) for s in state[\"subjects\"]]\n",
    "\n",
    "\n",
    "# Here we will judge the best joke\n",
    "def best_joke(state: OverallState):\n",
    "    jokes = \"\\n\\n\".format()\n",
    "    prompt = best_joke_prompt.format(topic=state[\"topic\"], jokes=jokes) # 토픽과 농담을 활용하여 결과 출력, 이전 단계의 값들을 모두 활용\n",
    "    response = model.with_structured_output(BestJoke).invoke(prompt)\n",
    "    return {\"best_selected_joke\": state[\"jokes\"][response.id]}\n",
    "\n",
    "\n",
    "# Construct the graph: here we put everything together to construct our graph\n",
    "graph = StateGraph(OverallState)\n",
    "graph.add_node(\"generate_topics\", generate_topics)\n",
    "graph.add_node(\"generate_joke\", generate_joke)\n",
    "graph.add_node(\"best_joke\", best_joke)\n",
    "graph.add_edge(START, \"generate_topics\")\n",
    "graph.add_conditional_edges(\"generate_topics\", continue_to_jokes, [\"generate_joke\"])\n",
    "graph.add_edge(\"generate_joke\", \"best_joke\")\n",
    "graph.add_edge(\"best_joke\", END)\n",
    "app = graph.compile()"
   ]
  },
  {
   "cell_type": "code",
   "execution_count": 9,
   "metadata": {},
   "outputs": [
    {
     "data": {
      "image/jpeg": "[encoded data removed]",
      "text/plain": [
       "<IPython.core.display.Image object>"
      ]
     },
     "execution_count": 9,
     "metadata": {},
     "output_type": "execute_result"
    }
   ],
   "source": [
    "from IPython.display import Image\n",
    "\n",
    "Image(app.get_graph().draw_mermaid_png())"
   ]
  },
  {
   "cell_type": "code",
   "execution_count": 11,
   "metadata": {},
   "outputs": [
    {
     "name": "stdout",
     "output_type": "stream",
     "text": [
      "{'generate_topics': {'subjects': ['lion', 'elephant', 'penguin', 'giraffe']}}\n",
      "{'generate_joke': {'jokes': [\"Why don't giraffes ever get caught gossiping? Because they always stick their necks out for their friends!\"]}}\n",
      "{'generate_joke': {'jokes': [\"Why don't penguins like online shopping? They're afraid of the web!\"]}}\n",
      "{'generate_joke': {'jokes': [\"Why don't elephants use computers? They're afraid of the mouse!\"]}}\n",
      "{'generate_joke': {'jokes': [\"Why don't lions like fast food? Because they can't catch it!\"]}}\n",
      "{'best_joke': {'best_selected_joke': \"Why don't elephants use computers? They're afraid of the mouse!\"}}\n"
     ]
    }
   ],
   "source": [
    "# Call the graph: here we call it to generate a list of jokes\n",
    "for s in app.stream({\"topic\": \"animals\"}):\n",
    "    print(s)"
   ]
  },
  {
   "cell_type": "markdown",
   "metadata": {},
   "source": [
    "\n",
    "1. 기린들은 왜 절대 남의 험담하다 안 걸릴까요? 항상 친구들을 위해 목을 내밀기 때문이죠!\n",
    "2. 펭귄들은 왜 온라인 쇼핑을 좋아하지 않을까요? 웹을 무서워하기 때문이죠!\n",
    "3. 코끼리들은 왜 컴퓨터를 사용하지 않을까요? 마우스가 무서워서죠! (베스트 답변)\n",
    "4. 사자들은 왜 패스트푸드를 좋아하지 않을까요? 잡을 수 없기 때문이죠!"
   ]
  },
  {
   "cell_type": "markdown",
   "metadata": {},
   "source": [
    "### 랭스미스\n",
    "1. 실패 - API키의 카드 연결이 되지 않았음\n",
    "\n",
    "<img src=\"./images/Animal_error.png\" width=\"800\">\n",
    "\n",
    "2. 성공 - 전체 결과, 단계별 결과 확인\n",
    "\n",
    "<img src=\"./images/Animal_result.png\" width=\"800\">\n"
   ]
  },
  {
   "cell_type": "markdown",
   "metadata": {},
   "source": [
    "### 결론\n",
    "1. 초기 개념 잡기가 생각보다 쉽지 않다.\n",
    "2. 많은 실습으로 경험과 활용법을 키워야 한다. -> 몸이 기억할 수 있도록 연습해야 함\n",
    "3. 추가로 배워야할 내용이 적다.\n",
    "4. [LangGraph Example](https://github.com/langchain-ai/langgraph/tree/main)  \n",
    "    - [force-calling-a-tool-first](https://github.com/langchain-ai/langgraph/blob/main/examples/chat_agent_executor_with_function_calling/force-calling-a-tool-first.ipynb)"
   ]
  }
 ],
 "metadata": {
  "kernelspec": {
   "display_name": "Python 3.11.9 64-bit ('langserve')",
   "language": "python",
   "name": "python3"
  },
  "language_info": {
   "codemirror_mode": {
    "name": "ipython",
    "version": 3
   },
   "file_extension": ".py",
   "mimetype": "text/x-python",
   "name": "python",
   "nbconvert_exporter": "python",
   "pygments_lexer": "ipython3",
   "version": "3.11.9"
  },
  "orig_nbformat": 4,
  "vscode": {
   "interpreter": {
    "hash": "3ed966c7df3dd01a40e25b73b77f17c9d1e262e99dedbe4cc79826cffc37ad39"
   }
  }
 },
 "nbformat": 4,
 "nbformat_minor": 2
}
